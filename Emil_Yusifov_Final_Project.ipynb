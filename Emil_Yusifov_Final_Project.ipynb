{
 "cells": [
  {
   "cell_type": "markdown",
   "metadata": {
    "button": false,
    "new_sheet": false,
    "run_control": {
     "read_only": false
    }
   },
   "source": [
    "<a href=\"https://www.bigdatauniversity.com\"><img src=\"https://ibm.box.com/shared/static/cw2c7r3o20w9zn8gkecaeyjhgw3xdgbj.png\" width=\"400\" align=\"center\"></a>\n",
    "\n",
    "<h1 align=\"center\"><font size=\"5\">Classification with Python</font></h1>"
   ]
  },
  {
   "cell_type": "code",
   "execution_count": 1,
   "metadata": {
    "button": false,
    "new_sheet": false,
    "run_control": {
     "read_only": false
    }
   },
   "outputs": [],
   "source": [
    "import itertools\n",
    "import numpy as np\n",
    "import matplotlib.pyplot as plt\n",
    "from matplotlib.ticker import NullFormatter\n",
    "import pandas as pd\n",
    "import numpy as np\n",
    "import matplotlib.ticker as ticker\n",
    "from sklearn import preprocessing\n",
    "%matplotlib inline"
   ]
  },
  {
   "cell_type": "markdown",
   "metadata": {
    "button": false,
    "new_sheet": false,
    "run_control": {
     "read_only": false
    }
   },
   "source": [
    "### About dataset"
   ]
  },
  {
   "cell_type": "markdown",
   "metadata": {
    "button": false,
    "new_sheet": false,
    "run_control": {
     "read_only": false
    }
   },
   "source": [
    "This dataset is about past loans. The __Loan_train.csv__ data set includes details of 346 customers whose loan are already paid off or defaulted. It includes following fields:\n",
    "\n",
    "| Field          | Description                                                                           |\n",
    "|----------------|---------------------------------------------------------------------------------------|\n",
    "| Loan_status    | Whether a loan is paid off on in collection                                           |\n",
    "| Principal      | Basic principal loan amount at the                                                    |\n",
    "| Terms          | Origination terms which can be weekly (7 days), biweekly, and monthly payoff schedule |\n",
    "| Effective_date | When the loan got originated and took effects                                         |\n",
    "| Due_date       | Since it’s one-time payoff schedule, each loan has one single due date                |\n",
    "| Age            | Age of applicant                                                                      |\n",
    "| Education      | Education of applicant                                                                |\n",
    "| Gender         | The gender of applicant                                                               |"
   ]
  },
  {
   "cell_type": "markdown",
   "metadata": {
    "button": false,
    "new_sheet": false,
    "run_control": {
     "read_only": false
    }
   },
   "source": [
    "Lets download the dataset"
   ]
  },
  {
   "cell_type": "code",
   "execution_count": 3,
   "metadata": {
    "button": false,
    "new_sheet": false,
    "run_control": {
     "read_only": false
    }
   },
   "outputs": [
    {
     "name": "stdout",
     "output_type": "stream",
     "text": [
      "curl: Remote file name has no length!\n",
      "curl: try 'curl --help' or 'curl --manual' for more information\n",
      ",Unnamed: 0,loan_status,Principal,terms,effective_date,due_date,age,education,Gender\n",
      "0,0,PAIDOFF,1000,30,9/8/2016,10/7/2016,45,High School or Below,male\n",
      "2,2,PAIDOFF,1000,30,9/8/2016,10/7/2016,33,Bechalor,female\n",
      "3,3,PAIDOFF,1000,15,9/8/2016,9/22/2016,27,college,male\n",
      "4,4,PAIDOFF,1000,30,9/9/2016,10/8/2016,28,college,female\n",
      "6,6,PAIDOFF,1000,30,9/9/2016,10/8/2016,29,college,male\n",
      "7,7,PAIDOFF,1000,30,9/9/2016,10/8/2016,36,college,male\n",
      "8,8,PAIDOFF,1000,30,9/9/2016,10/8/2016,28,college,male\n",
      "9,9,PAIDOFF,800,15,9/10/2016,9/24/2016,26,college,male\n",
      "10,10,PAIDOFF,300,7,9/10/2016,9/16/2016,29,college,male\n",
      "11,11,PAIDOFF,1000,15,9/10/2016,10/9/2016,39,High School or Below,male\n",
      "12,12,PAIDOFF,1000,30,9/10/2016,10/9/2016,26,college,male\n",
      "13,13,PAIDOFF,900,7,9/10/2016,9/16/2016,26,college,female\n",
      "14,14,PAIDOFF,1000,7,9/10/2016,9/16/2016,27,High School or Below,male\n",
      "15,15,PAIDOFF,800,15,9/10/2016,9/24/2016,26,college,male\n",
      "16,16,PAIDOFF,1000,30,9/10/2016,10/9/2016,40,High School or Below,male\n",
      "17,17,PAIDOFF,1000,15,9/10/2016,9/24/2016,32,High School or Below,male\n",
      "18,18,PAIDOFF,1000,30,9/10/2016,10/9/2016,32,High School or Below,male\n",
      "19,19,PAIDOFF,800,30,9/10/2016,10/9/2016,26,college,male\n",
      "20,20,PAIDOFF,1000,30,9/10/2016,10/9/2016,26,college,male\n",
      "22,22,PAIDOFF,1000,30,9/10/2016,10/9/2016,25,High School or Below,male\n",
      "23,23,PAIDOFF,1000,15,9/10/2016,9/24/2016,26,college,male\n",
      "25,25,PAIDOFF,1000,30,9/10/2016,10/9/2016,29,High School or Below,male\n",
      "26,26,PAIDOFF,800,15,9/10/2016,9/24/2016,39,Bechalor,male\n",
      "27,27,PAIDOFF,1000,15,9/10/2016,9/24/2016,34,Bechalor,male\n",
      "28,28,PAIDOFF,1000,30,9/11/2016,10/10/2016,31,college,male\n",
      "29,29,PAIDOFF,1000,30,9/11/2016,10/10/2016,33,college,male\n",
      "30,30,PAIDOFF,800,15,9/11/2016,9/25/2016,33,High School or Below,male\n",
      "31,31,PAIDOFF,1000,30,9/11/2016,10/10/2016,37,college,male\n",
      "32,32,PAIDOFF,1000,30,9/11/2016,10/10/2016,27,college,male\n",
      "33,33,PAIDOFF,1000,30,9/11/2016,10/10/2016,37,college,male\n",
      "34,34,PAIDOFF,800,15,9/11/2016,9/25/2016,33,college,male\n",
      "36,36,PAIDOFF,1000,30,9/11/2016,10/10/2016,27,High School or Below,male\n",
      "39,39,PAIDOFF,1000,30,9/11/2016,10/10/2016,21,Bechalor,male\n",
      "40,40,PAIDOFF,1000,15,9/11/2016,9/25/2016,32,college,female\n",
      "41,41,PAIDOFF,800,15,9/11/2016,9/25/2016,30,college,male\n",
      "42,42,PAIDOFF,1000,7,9/11/2016,9/24/2016,31,Bechalor,male\n",
      "43,43,PAIDOFF,1000,15,9/11/2016,9/25/2016,30,college,male\n",
      "44,44,PAIDOFF,1000,15,9/11/2016,9/25/2016,24,Bechalor,female\n",
      "45,45,PAIDOFF,800,7,9/11/2016,9/17/2016,35,High School or Below,male\n",
      "46,46,PAIDOFF,1000,30,9/11/2016,10/10/2016,22,High School or Below,male\n",
      "47,47,PAIDOFF,1000,30,9/11/2016,10/10/2016,32,college,male\n",
      "49,49,PAIDOFF,800,15,9/11/2016,9/25/2016,50,High School or Below,male\n",
      "51,51,PAIDOFF,1000,30,9/11/2016,10/10/2016,35,Bechalor,female\n",
      "52,52,PAIDOFF,800,15,9/11/2016,9/25/2016,35,Bechalor,female\n",
      "53,53,PAIDOFF,1000,30,9/11/2016,10/10/2016,34,High School or Below,male\n",
      "54,54,PAIDOFF,1000,30,9/11/2016,10/10/2016,21,High School or Below,male\n",
      "55,55,PAIDOFF,1000,15,9/11/2016,9/25/2016,25,college,male\n",
      "56,56,PAIDOFF,1000,30,9/11/2016,10/10/2016,27,High School or Below,male\n",
      "57,57,PAIDOFF,1000,30,9/11/2016,10/10/2016,26,Bechalor,male\n",
      "58,58,PAIDOFF,800,15,9/11/2016,9/25/2016,44,High School or Below,female\n",
      "59,59,PAIDOFF,800,15,9/11/2016,9/25/2016,39,Master or Above,male\n",
      "60,60,PAIDOFF,1000,30,9/11/2016,10/10/2016,34,Bechalor,male\n",
      "62,62,PAIDOFF,1000,30,9/11/2016,10/10/2016,34,High School or Below,male\n",
      "63,63,PAIDOFF,1000,30,9/11/2016,10/10/2016,45,college,male\n",
      "65,65,PAIDOFF,900,15,9/11/2016,9/25/2016,28,college,male\n",
      "66,66,PAIDOFF,1000,30,9/11/2016,10/10/2016,28,Bechalor,male\n",
      "67,67,PAIDOFF,1000,30,9/11/2016,10/10/2016,37,High School or Below,male\n",
      "69,69,PAIDOFF,1000,30,9/11/2016,10/10/2016,43,Bechalor,male\n",
      "70,70,PAIDOFF,800,15,9/11/2016,9/25/2016,29,college,male\n",
      "71,71,PAIDOFF,800,15,9/11/2016,9/25/2016,29,High School or Below,male\n",
      "72,72,PAIDOFF,1000,30,9/11/2016,10/10/2016,33,Bechalor,female\n",
      "73,73,PAIDOFF,1000,15,9/11/2016,9/25/2016,34,college,male\n",
      "74,74,PAIDOFF,1000,15,9/11/2016,9/25/2016,25,college,male\n",
      "75,75,PAIDOFF,1000,30,9/11/2016,10/10/2016,30,High School or Below,male\n",
      "77,77,PAIDOFF,1000,30,9/11/2016,10/10/2016,35,college,male\n",
      "79,79,PAIDOFF,1000,30,9/11/2016,10/10/2016,44,High School or Below,female\n",
      "80,80,PAIDOFF,1000,30,9/11/2016,10/10/2016,28,High School or Below,male\n",
      "81,81,PAIDOFF,1000,7,9/11/2016,9/17/2016,25,college,male\n",
      "82,82,PAIDOFF,1000,15,9/11/2016,9/25/2016,29,college,male\n",
      "83,83,PAIDOFF,800,15,9/11/2016,9/25/2016,33,college,male\n",
      "86,86,PAIDOFF,1000,30,9/11/2016,10/10/2016,24,High School or Below,female\n",
      "87,87,PAIDOFF,1000,30,9/11/2016,10/10/2016,27,college,female\n",
      "89,89,PAIDOFF,800,15,9/11/2016,9/25/2016,46,High School or Below,female\n",
      "90,90,PAIDOFF,800,15,9/11/2016,9/25/2016,34,college,female\n",
      "92,92,PAIDOFF,800,15,9/11/2016,9/25/2016,38,High School or Below,male\n",
      "93,93,PAIDOFF,800,15,9/11/2016,9/25/2016,27,High School or Below,male\n",
      "94,94,PAIDOFF,1000,30,9/11/2016,10/10/2016,33,High School or Below,male\n",
      "95,95,PAIDOFF,1000,30,9/11/2016,10/10/2016,36,college,male\n",
      "97,97,PAIDOFF,1000,30,9/11/2016,10/10/2016,34,college,male\n",
      "98,98,PAIDOFF,1000,30,9/11/2016,10/10/2016,22,High School or Below,male\n",
      "99,99,PAIDOFF,1000,30,9/11/2016,10/10/2016,31,Bechalor,female\n",
      "101,101,PAIDOFF,800,15,9/11/2016,9/25/2016,38,college,male\n",
      "102,102,PAIDOFF,1000,30,9/11/2016,10/10/2016,30,college,male\n",
      "103,103,PAIDOFF,1000,15,9/11/2016,9/25/2016,45,High School or Below,male\n",
      "104,104,PAIDOFF,1000,15,9/11/2016,9/25/2016,35,college,male\n",
      "106,106,PAIDOFF,1000,30,9/11/2016,10/10/2016,31,High School or Below,male\n",
      "107,107,PAIDOFF,1000,30,9/11/2016,10/10/2016,31,High School or Below,male\n",
      "108,108,PAIDOFF,1000,30,9/11/2016,10/10/2016,28,college,male\n",
      "109,109,PAIDOFF,1000,7,9/11/2016,9/24/2016,29,college,male\n",
      "110,110,PAIDOFF,800,15,9/11/2016,9/25/2016,29,college,male\n",
      "111,111,PAIDOFF,1000,30,9/11/2016,11/9/2016,27,college,female\n",
      "112,112,PAIDOFF,1000,30,9/11/2016,10/10/2016,27,college,male\n",
      "113,113,PAIDOFF,1000,30,9/11/2016,10/10/2016,33,college,male\n",
      "114,114,PAIDOFF,1000,30,9/11/2016,10/10/2016,28,college,male\n",
      "115,115,PAIDOFF,1000,15,9/11/2016,9/25/2016,25,High School or Below,male\n",
      "116,116,PAIDOFF,1000,30,9/11/2016,10/10/2016,40,college,male\n",
      "117,117,PAIDOFF,1000,30,9/11/2016,10/10/2016,23,High School or Below,male\n",
      "118,118,PAIDOFF,1000,30,9/11/2016,10/10/2016,35,Bechalor,male\n",
      "119,119,PAIDOFF,800,15,9/11/2016,9/25/2016,24,college,male\n",
      "120,120,PAIDOFF,1000,30,9/11/2016,10/10/2016,34,college,male\n",
      "121,121,PAIDOFF,1000,30,9/11/2016,10/10/2016,22,High School or Below,male\n",
      "122,122,PAIDOFF,1000,15,9/11/2016,10/25/2016,20,college,male\n",
      "123,123,PAIDOFF,1000,15,9/11/2016,9/25/2016,23,college,male\n",
      "124,124,PAIDOFF,1000,30,9/11/2016,10/10/2016,33,college,male\n",
      "125,125,PAIDOFF,1000,30,9/11/2016,10/10/2016,26,college,male\n",
      "126,126,PAIDOFF,1000,15,9/11/2016,9/25/2016,28,High School or Below,male\n",
      "127,127,PAIDOFF,800,15,9/11/2016,9/25/2016,43,High School or Below,male\n",
      "128,128,PAIDOFF,1000,15,9/11/2016,9/25/2016,34,Bechalor,male\n",
      "129,129,PAIDOFF,1000,30,9/11/2016,10/10/2016,38,Bechalor,male\n",
      "130,130,PAIDOFF,1000,15,9/11/2016,9/25/2016,26,High School or Below,male\n",
      "131,131,PAIDOFF,800,15,9/11/2016,9/25/2016,43,High School or Below,male\n",
      "132,132,PAIDOFF,1000,30,9/11/2016,10/10/2016,26,High School or Below,male\n",
      "133,133,PAIDOFF,1000,30,9/11/2016,10/10/2016,33,college,female\n",
      "134,134,PAIDOFF,800,15,9/11/2016,9/25/2016,24,college,male\n",
      "135,135,PAIDOFF,1000,30,9/11/2016,10/10/2016,30,High School or Below,male\n",
      "136,136,PAIDOFF,800,15,9/11/2016,9/25/2016,32,High School or Below,female\n",
      "137,137,PAIDOFF,1000,15,9/11/2016,10/25/2016,22,college,male\n",
      "138,138,PAIDOFF,1000,15,9/11/2016,9/25/2016,47,High School or Below,male\n",
      "139,139,PAIDOFF,1000,30,9/11/2016,10/10/2016,20,High School or Below,male\n",
      "140,140,PAIDOFF,1000,30,9/11/2016,10/10/2016,28,High School or Below,male\n",
      "141,141,PAIDOFF,800,15,9/11/2016,9/25/2016,35,college,male\n",
      "143,143,PAIDOFF,800,15,9/11/2016,9/25/2016,33,college,female\n",
      "144,144,PAIDOFF,1000,30,9/11/2016,10/10/2016,30,High School or Below,male\n",
      "145,145,PAIDOFF,1000,15,9/11/2016,9/25/2016,31,college,male\n",
      "146,146,PAIDOFF,1000,30,9/11/2016,11/9/2016,26,college,female\n",
      "148,148,PAIDOFF,1000,15,9/12/2016,9/26/2016,26,Bechalor,male\n",
      "149,149,PAIDOFF,800,15,9/12/2016,9/26/2016,35,Bechalor,male\n",
      "151,151,PAIDOFF,800,15,9/12/2016,9/26/2016,23,college,male\n",
      "152,152,PAIDOFF,500,15,9/12/2016,9/26/2016,23,college,female\n",
      "153,153,PAIDOFF,1000,15,9/12/2016,9/26/2016,30,college,male\n",
      "154,154,PAIDOFF,1000,30,9/12/2016,10/11/2016,34,college,male\n",
      "155,155,PAIDOFF,1000,30,9/12/2016,10/11/2016,36,High School or Below,female\n",
      "157,157,PAIDOFF,800,15,9/12/2016,9/26/2016,29,High School or Below,male\n",
      "158,158,PAIDOFF,1000,15,9/12/2016,9/26/2016,28,college,female\n",
      "159,159,PAIDOFF,1000,30,9/12/2016,10/11/2016,27,High School or Below,male\n",
      "160,160,PAIDOFF,1000,15,9/12/2016,9/26/2016,24,High School or Below,male\n",
      "161,161,PAIDOFF,800,15,9/12/2016,9/26/2016,31,Bechalor,male\n",
      "162,162,PAIDOFF,1000,30,9/12/2016,10/11/2016,28,High School or Below,male\n",
      "163,163,PAIDOFF,1000,15,9/12/2016,9/26/2016,27,college,female\n",
      "164,164,PAIDOFF,1000,15,9/12/2016,9/26/2016,25,High School or Below,male\n",
      "165,165,PAIDOFF,1000,30,9/12/2016,11/10/2016,24,High School or Below,male\n",
      "166,166,PAIDOFF,1000,30,9/12/2016,10/11/2016,28,college,male\n",
      "168,168,PAIDOFF,1000,15,9/12/2016,9/26/2016,35,High School or Below,male\n",
      "170,170,PAIDOFF,1000,15,9/12/2016,9/26/2016,38,High School or Below,male\n",
      "171,171,PAIDOFF,1000,30,9/12/2016,10/11/2016,29,college,male\n",
      "172,172,PAIDOFF,800,15,9/12/2016,9/26/2016,35,High School or Below,male\n",
      "173,173,PAIDOFF,1000,30,9/12/2016,10/11/2016,24,college,male\n",
      "174,174,PAIDOFF,800,15,9/12/2016,9/26/2016,39,High School or Below,male\n",
      "175,175,PAIDOFF,800,15,9/12/2016,9/26/2016,25,college,male\n",
      "176,176,PAIDOFF,1000,30,9/12/2016,10/11/2016,38,High School or Below,male\n",
      "177,177,PAIDOFF,1000,30,9/12/2016,10/11/2016,30,college,male\n",
      "178,178,PAIDOFF,1000,30,9/12/2016,10/11/2016,21,High School or Below,male\n",
      "180,180,PAIDOFF,1000,15,9/12/2016,9/26/2016,31,High School or Below,female\n",
      "181,181,PAIDOFF,300,7,9/12/2016,9/18/2016,29,High School or Below,male\n",
      "182,182,PAIDOFF,1000,30,9/12/2016,10/11/2016,35,High School or Below,male\n",
      "183,183,PAIDOFF,800,15,9/12/2016,9/26/2016,30,High School or Below,male\n",
      "184,184,PAIDOFF,1000,30,9/12/2016,10/11/2016,27,High School or Below,male\n",
      "185,185,PAIDOFF,1000,30,9/12/2016,10/11/2016,31,High School or Below,female\n",
      "187,187,PAIDOFF,1000,15,9/12/2016,9/26/2016,34,High School or Below,male\n",
      "188,188,PAIDOFF,800,15,9/12/2016,9/26/2016,28,college,male\n",
      "189,189,PAIDOFF,800,15,9/12/2016,9/26/2016,42,college,male\n",
      "190,190,PAIDOFF,1000,30,9/12/2016,10/11/2016,32,college,male\n",
      "191,191,PAIDOFF,1000,30,9/12/2016,10/11/2016,30,High School or Below,male\n",
      "192,192,PAIDOFF,1000,15,9/12/2016,9/26/2016,25,High School or Below,female\n",
      "193,193,PAIDOFF,1000,30,9/12/2016,10/11/2016,27,High School or Below,female\n",
      "194,194,PAIDOFF,800,15,9/12/2016,9/26/2016,21,college,male\n",
      "195,195,PAIDOFF,1000,30,9/12/2016,10/11/2016,24,college,male\n",
      "197,197,PAIDOFF,1000,15,9/12/2016,9/26/2016,40,college,male\n",
      "198,198,PAIDOFF,1000,30,9/12/2016,10/11/2016,29,High School or Below,male\n",
      "200,200,PAIDOFF,1000,15,9/12/2016,9/26/2016,30,college,male\n",
      "201,201,PAIDOFF,1000,30,9/12/2016,10/11/2016,26,High School or Below,female\n",
      "203,203,PAIDOFF,800,15,9/12/2016,9/26/2016,27,college,male\n",
      "204,204,PAIDOFF,1000,30,9/12/2016,10/11/2016,20,college,male\n",
      "205,205,PAIDOFF,1000,7,9/12/2016,9/18/2016,26,Bechalor,female\n",
      "206,206,PAIDOFF,1000,30,9/12/2016,11/10/2016,26,college,male\n",
      "207,207,PAIDOFF,1000,30,9/12/2016,10/11/2016,27,college,male\n",
      "208,208,PAIDOFF,300,7,9/12/2016,9/18/2016,23,High School or Below,male\n",
      "209,209,PAIDOFF,1000,30,9/12/2016,10/11/2016,39,High School or Below,male\n",
      "210,210,PAIDOFF,1000,15,9/12/2016,9/26/2016,27,High School or Below,male\n",
      "211,211,PAIDOFF,1000,30,9/12/2016,10/11/2016,30,High School or Below,male\n",
      "212,212,PAIDOFF,1000,30,9/12/2016,10/11/2016,33,High School or Below,female\n",
      "213,213,PAIDOFF,1000,30,9/12/2016,10/11/2016,27,High School or Below,male\n",
      "214,214,PAIDOFF,1000,30,9/12/2016,10/11/2016,35,High School or Below,male\n",
      "215,215,PAIDOFF,1000,30,9/12/2016,11/10/2016,29,college,female\n",
      "216,216,PAIDOFF,1000,15,9/12/2016,9/26/2016,50,High School or Below,male\n",
      "217,217,PAIDOFF,800,15,9/12/2016,9/26/2016,31,High School or Below,female\n",
      "218,218,PAIDOFF,1000,15,9/12/2016,9/26/2016,31,High School or Below,male\n",
      "219,219,PAIDOFF,1000,30,9/12/2016,10/11/2016,29,High School or Below,male\n",
      "220,220,PAIDOFF,1000,15,9/12/2016,9/26/2016,35,college,male\n",
      "221,221,PAIDOFF,1000,30,9/12/2016,10/11/2016,39,college,male\n",
      "223,223,PAIDOFF,1000,15,9/12/2016,9/26/2016,30,High School or Below,male\n",
      "224,224,PAIDOFF,1000,30,9/12/2016,10/11/2016,33,Bechalor,male\n",
      "225,225,PAIDOFF,1000,30,9/12/2016,10/11/2016,26,High School or Below,male\n",
      "226,226,PAIDOFF,1000,15,9/12/2016,9/26/2016,25,High School or Below,male\n",
      "227,227,PAIDOFF,800,15,9/12/2016,9/26/2016,37,Bechalor,male\n",
      "228,228,PAIDOFF,800,15,9/12/2016,9/26/2016,26,High School or Below,male\n",
      "229,229,PAIDOFF,800,15,9/12/2016,9/26/2016,26,college,male\n",
      "230,230,PAIDOFF,1000,15,9/12/2016,10/26/2016,27,college,male\n",
      "231,231,PAIDOFF,1000,7,9/12/2016,9/25/2016,34,college,female\n",
      "232,232,PAIDOFF,1000,30,9/12/2016,10/11/2016,37,college,male\n",
      "233,233,PAIDOFF,1000,30,9/12/2016,10/11/2016,36,High School or Below,male\n",
      "234,234,PAIDOFF,800,15,9/12/2016,9/26/2016,33,High School or Below,male\n",
      "235,235,PAIDOFF,1000,30,9/12/2016,10/11/2016,30,High School or Below,male\n",
      "237,237,PAIDOFF,800,15,9/12/2016,9/26/2016,36,High School or Below,male\n",
      "238,238,PAIDOFF,1000,15,9/12/2016,10/11/2016,29,college,male\n",
      "240,240,PAIDOFF,1000,30,9/12/2016,10/11/2016,32,High School or Below,male\n",
      "241,241,PAIDOFF,1000,15,9/12/2016,9/26/2016,29,High School or Below,female\n",
      "242,242,PAIDOFF,800,15,9/12/2016,9/26/2016,36,Bechalor,male\n",
      "243,243,PAIDOFF,800,15,9/12/2016,9/26/2016,30,High School or Below,female\n",
      "244,244,PAIDOFF,1000,7,9/13/2016,9/19/2016,31,college,male\n",
      "245,245,PAIDOFF,1000,30,9/13/2016,10/12/2016,19,High School or Below,female\n",
      "246,246,PAIDOFF,800,15,9/13/2016,9/27/2016,26,college,male\n",
      "247,247,PAIDOFF,800,15,9/13/2016,9/27/2016,34,High School or Below,male\n",
      "248,248,PAIDOFF,1000,30,9/13/2016,10/12/2016,35,High School or Below,male\n",
      "249,249,PAIDOFF,1000,15,9/13/2016,9/27/2016,35,Bechalor,female\n",
      "250,250,PAIDOFF,800,15,9/13/2016,9/27/2016,38,college,male\n",
      "253,253,PAIDOFF,500,7,9/13/2016,9/19/2016,22,High School or Below,male\n",
      "254,254,PAIDOFF,1000,30,9/13/2016,10/12/2016,32,college,male\n",
      "255,255,PAIDOFF,1000,30,9/13/2016,10/12/2016,31,college,male\n",
      "256,256,PAIDOFF,800,15,9/13/2016,9/27/2016,28,college,male\n",
      "257,257,PAIDOFF,1000,15,9/13/2016,9/27/2016,37,college,female\n",
      "258,258,PAIDOFF,1000,7,9/13/2016,9/19/2016,25,college,male\n",
      "259,259,PAIDOFF,1000,30,9/13/2016,10/12/2016,19,High School or Below,male\n",
      "260,260,PAIDOFF,800,15,9/13/2016,9/27/2016,51,college,male\n",
      "261,261,PAIDOFF,1000,15,9/13/2016,9/27/2016,29,High School or Below,male\n",
      "262,262,PAIDOFF,800,30,9/13/2016,10/12/2016,23,college,female\n",
      "263,263,PAIDOFF,1000,15,9/13/2016,9/27/2016,30,High School or Below,male\n",
      "265,265,PAIDOFF,1000,15,9/13/2016,9/27/2016,34,Bechalor,female\n",
      "266,266,PAIDOFF,800,15,9/13/2016,9/27/2016,31,Bechalor,female\n",
      "267,267,PAIDOFF,1000,15,9/14/2016,9/28/2016,24,High School or Below,male\n",
      "268,268,PAIDOFF,1000,30,9/14/2016,10/13/2016,42,High School or Below,male\n",
      "269,269,PAIDOFF,800,30,9/14/2016,10/13/2016,40,college,female\n",
      "270,270,PAIDOFF,1000,30,9/14/2016,10/13/2016,29,High School or Below,male\n",
      "271,271,PAIDOFF,1000,30,9/14/2016,10/13/2016,32,college,female\n",
      "272,272,PAIDOFF,1000,30,9/14/2016,11/12/2016,28,college,male\n",
      "273,273,PAIDOFF,1000,30,9/14/2016,10/13/2016,35,High School or Below,male\n"
     ]
    },
    {
     "name": "stdout",
     "output_type": "stream",
     "text": [
      "274,274,PAIDOFF,1000,30,9/14/2016,10/13/2016,30,Bechalor,male\r\n",
      "275,275,PAIDOFF,800,15,9/14/2016,9/28/2016,44,college,male\r\n",
      "276,276,PAIDOFF,800,15,9/14/2016,9/28/2016,37,High School or Below,male\r\n",
      "277,277,PAIDOFF,1000,30,9/14/2016,10/13/2016,31,college,male\r\n",
      "278,278,PAIDOFF,800,15,9/14/2016,9/28/2016,36,college,male\r\n",
      "279,279,PAIDOFF,800,30,9/14/2016,10/13/2016,31,college,male\r\n",
      "280,280,PAIDOFF,800,15,9/14/2016,9/28/2016,42,High School or Below,male\r\n",
      "281,281,PAIDOFF,1000,15,9/14/2016,9/28/2016,28,Bechalor,male\r\n",
      "282,282,PAIDOFF,1000,30,9/14/2016,10/13/2016,30,college,male\r\n",
      "283,283,PAIDOFF,1000,30,9/14/2016,10/13/2016,30,High School or Below,male\r\n",
      "284,284,PAIDOFF,1000,15,9/14/2016,9/28/2016,24,Bechalor,male\r\n",
      "285,285,PAIDOFF,1000,30,9/14/2016,11/12/2016,34,Bechalor,male\r\n",
      "286,286,PAIDOFF,1000,30,9/14/2016,10/13/2016,29,college,male\r\n",
      "288,288,PAIDOFF,1000,30,9/14/2016,10/13/2016,34,Bechalor,male\r\n",
      "289,289,PAIDOFF,800,15,9/14/2016,9/28/2016,28,High School or Below,male\r\n",
      "290,290,PAIDOFF,1000,15,9/14/2016,9/28/2016,30,college,female\r\n",
      "291,291,PAIDOFF,1000,30,9/14/2016,10/13/2016,41,High School or Below,male\r\n",
      "292,292,PAIDOFF,1000,30,9/14/2016,10/13/2016,29,college,male\r\n",
      "293,293,PAIDOFF,1000,30,9/14/2016,10/13/2016,37,High School or Below,male\r\n",
      "294,294,PAIDOFF,1000,30,9/14/2016,10/13/2016,36,Bechalor,male\r\n",
      "296,296,PAIDOFF,800,15,9/14/2016,9/28/2016,27,college,male\r\n",
      "297,297,PAIDOFF,1000,30,9/14/2016,10/13/2016,29,High School or Below,male\r\n",
      "298,298,PAIDOFF,1000,30,9/14/2016,10/13/2016,40,High School or Below,male\r\n",
      "299,299,PAIDOFF,1000,30,9/14/2016,10/13/2016,28,college,male\r\n",
      "300,300,COLLECTION,1000,15,9/9/2016,9/23/2016,29,college,male\r\n",
      "301,301,COLLECTION,1000,30,9/9/2016,10/8/2016,37,High School or Below,male\r\n",
      "303,303,COLLECTION,800,15,9/9/2016,9/23/2016,27,college,male\r\n",
      "304,304,COLLECTION,800,15,9/9/2016,9/23/2016,24,Bechalor,male\r\n",
      "306,306,COLLECTION,800,15,9/10/2016,10/9/2016,28,college,male\r\n",
      "307,307,COLLECTION,1000,30,9/10/2016,10/9/2016,40,High School or Below,male\r\n",
      "308,308,COLLECTION,1000,30,9/10/2016,10/9/2016,33,college,male\r\n",
      "312,312,COLLECTION,1000,30,9/10/2016,10/9/2016,27,High School or Below,male\r\n",
      "314,314,COLLECTION,1000,30,9/10/2016,10/9/2016,24,college,male\r\n",
      "316,316,COLLECTION,1000,30,9/10/2016,10/9/2016,30,High School or Below,male\r\n",
      "317,317,COLLECTION,1000,15,9/10/2016,9/24/2016,29,High School or Below,male\r\n",
      "318,318,COLLECTION,1000,30,9/10/2016,10/9/2016,22,Bechalor,male\r\n",
      "319,319,COLLECTION,1000,15,9/10/2016,9/24/2016,24,Bechalor,male\r\n",
      "320,320,COLLECTION,1000,30,9/10/2016,10/9/2016,25,college,male\r\n",
      "321,321,COLLECTION,1000,30,9/10/2016,10/9/2016,28,High School or Below,male\r\n",
      "322,322,COLLECTION,1000,30,9/10/2016,10/9/2016,37,college,male\r\n",
      "323,323,COLLECTION,800,15,9/10/2016,9/24/2016,32,college,male\r\n",
      "324,324,COLLECTION,1000,15,9/10/2016,9/24/2016,34,college,male\r\n",
      "325,325,COLLECTION,1000,30,9/11/2016,10/10/2016,28,Bechalor,male\r\n",
      "326,326,COLLECTION,800,15,9/11/2016,9/25/2016,35,Bechalor,male\r\n",
      "327,327,COLLECTION,1000,30,9/11/2016,11/9/2016,27,college,male\r\n",
      "329,329,COLLECTION,1000,30,9/11/2016,10/10/2016,44,Bechalor,male\r\n",
      "330,330,COLLECTION,1000,15,9/11/2016,10/25/2016,31,college,male\r\n",
      "332,332,COLLECTION,1000,30,9/11/2016,10/10/2016,21,High School or Below,male\r\n",
      "333,333,COLLECTION,1000,30,9/11/2016,10/10/2016,30,High School or Below,female\r\n",
      "334,334,COLLECTION,1000,30,9/11/2016,10/10/2016,38,college,female\r\n",
      "335,335,COLLECTION,1000,30,9/11/2016,10/10/2016,34,High School or Below,male\r\n",
      "336,336,COLLECTION,1000,30,9/11/2016,10/10/2016,31,college,male\r\n",
      "337,337,COLLECTION,1000,30,9/11/2016,10/10/2016,23,High School or Below,male\r\n",
      "338,338,COLLECTION,1000,15,9/11/2016,9/25/2016,27,college,female\r\n",
      "339,339,COLLECTION,1000,15,9/11/2016,9/25/2016,39,High School or Below,male\r\n",
      "340,340,COLLECTION,1000,30,9/11/2016,10/10/2016,30,High School or Below,female\r\n",
      "341,341,COLLECTION,1000,30,9/11/2016,10/10/2016,25,college,male\r\n",
      "342,342,COLLECTION,1000,15,9/11/2016,9/25/2016,50,Master or Above,male\r\n",
      "343,343,COLLECTION,1000,30,9/11/2016,10/10/2016,23,High School or Below,male\r\n",
      "344,344,COLLECTION,800,15,9/11/2016,9/25/2016,38,Bechalor,male\r\n",
      "345,345,COLLECTION,1000,30,9/11/2016,10/10/2016,27,High School or Below,male\r\n",
      "346,346,COLLECTION,1000,30,9/11/2016,11/9/2016,31,High School or Below,male\r\n",
      "347,347,COLLECTION,800,15,9/11/2016,9/25/2016,40,college,male\r\n",
      "350,350,COLLECTION,1000,30,9/11/2016,10/10/2016,26,High School or Below,male\r\n",
      "351,351,COLLECTION,1000,15,9/11/2016,9/25/2016,25,college,male\r\n",
      "352,352,COLLECTION,1000,30,9/11/2016,10/10/2016,35,High School or Below,male\r\n",
      "353,353,COLLECTION,1000,30,9/11/2016,10/10/2016,41,High School or Below,male\r\n",
      "354,354,COLLECTION,1000,30,9/11/2016,10/10/2016,37,High School or Below,male\r\n",
      "355,355,COLLECTION,1000,15,9/11/2016,10/10/2016,34,college,male\r\n",
      "356,356,COLLECTION,1000,30,9/11/2016,10/10/2016,45,High School or Below,male\r\n",
      "357,357,COLLECTION,1000,30,9/11/2016,10/10/2016,26,Bechalor,male\r\n",
      "358,358,COLLECTION,1000,30,9/11/2016,10/10/2016,32,college,male\r\n",
      "359,359,COLLECTION,1000,30,9/11/2016,10/10/2016,28,High School or Below,male\r\n",
      "360,360,COLLECTION,1000,30,9/11/2016,10/10/2016,34,college,male\r\n",
      "361,361,COLLECTION,800,15,9/11/2016,9/25/2016,29,High School or Below,male\r\n",
      "362,362,COLLECTION,1000,30,9/11/2016,10/10/2016,26,High School or Below,male\r\n",
      "363,363,COLLECTION,1000,15,9/11/2016,9/25/2016,26,college,male\r\n",
      "364,364,COLLECTION,800,15,9/11/2016,9/25/2016,22,college,male\r\n",
      "365,365,COLLECTION,1000,30,9/11/2016,10/10/2016,27,High School or Below,female\r\n",
      "366,366,COLLECTION,800,30,9/11/2016,10/10/2016,33,High School or Below,male\r\n",
      "367,367,COLLECTION,800,15,9/11/2016,9/25/2016,28,Bechalor,male\r\n",
      "368,368,COLLECTION,1000,30,9/11/2016,10/10/2016,24,college,male\r\n",
      "371,371,COLLECTION,1000,30,9/11/2016,10/10/2016,18,college,male\r\n",
      "372,372,COLLECTION,800,15,9/11/2016,9/25/2016,25,High School or Below,male\r\n",
      "373,373,COLLECTION,1000,15,9/11/2016,9/25/2016,40,High School or Below,male\r\n",
      "374,374,COLLECTION,1000,30,9/11/2016,10/10/2016,29,college,male\r\n",
      "375,375,COLLECTION,800,15,9/11/2016,9/25/2016,26,High School or Below,female\r\n",
      "376,376,COLLECTION,1000,15,9/11/2016,9/25/2016,30,college,male\r\n",
      "377,377,COLLECTION,1000,30,9/11/2016,10/10/2016,33,college,male\r\n",
      "378,378,COLLECTION,1000,30,9/11/2016,10/10/2016,30,college,male\r\n",
      "379,379,COLLECTION,1000,30,9/11/2016,10/10/2016,32,college,male\r\n",
      "380,380,COLLECTION,1000,30,9/11/2016,10/10/2016,25,High School or Below,male\r\n",
      "381,381,COLLECTION,800,15,9/11/2016,9/25/2016,35,High School or Below,male\r\n",
      "382,382,COLLECTION,1000,15,9/11/2016,9/25/2016,30,Bechalor,male\r\n",
      "383,383,COLLECTION,1000,30,9/11/2016,10/10/2016,26,High School or Below,male\r\n",
      "384,384,COLLECTION,1000,30,9/11/2016,10/10/2016,29,High School or Below,male\r\n",
      "385,385,COLLECTION,1000,30,9/11/2016,11/9/2016,26,High School or Below,male\r\n",
      "386,386,COLLECTION,800,15,9/11/2016,9/25/2016,46,High School or Below,male\r\n",
      "387,387,COLLECTION,1000,30,9/11/2016,10/10/2016,36,High School or Below,male\r\n",
      "388,388,COLLECTION,1000,15,9/11/2016,9/25/2016,38,Bechalor,male\r\n",
      "389,389,COLLECTION,1000,15,9/11/2016,10/25/2016,32,High School or Below,male\r\n",
      "390,390,COLLECTION,1000,15,9/11/2016,9/25/2016,30,college,male\r\n",
      "391,391,COLLECTION,800,15,9/11/2016,9/25/2016,35,High School or Below,male\r\n",
      "392,392,COLLECTION,1000,30,9/11/2016,10/10/2016,29,college,female\r\n",
      "393,393,COLLECTION,1000,30,9/11/2016,11/9/2016,26,college,male\r\n",
      "394,394,COLLECTION,800,15,9/11/2016,9/25/2016,32,High School or Below,male\r\n",
      "395,395,COLLECTION,1000,30,9/11/2016,10/10/2016,25,High School or Below,male\r\n",
      "397,397,COLLECTION,800,15,9/12/2016,9/26/2016,39,college,male\r\n",
      "398,398,COLLECTION,1000,30,9/12/2016,11/10/2016,28,college,male\r\n",
      "399,399,COLLECTION,1000,30,9/12/2016,10/11/2016,26,college,male\r\n"
     ]
    }
   ],
   "source": [
    "!curl -O loan_train.csv https://s3-api.us-geo.objectstorage.softlayer.net/cf-courses-data/CognitiveClass/ML0101ENv3/labs/loan_train.csv"
   ]
  },
  {
   "cell_type": "markdown",
   "metadata": {
    "button": false,
    "new_sheet": false,
    "run_control": {
     "read_only": false
    }
   },
   "source": [
    "### Load Data From CSV File  "
   ]
  },
  {
   "cell_type": "code",
   "execution_count": 4,
   "metadata": {
    "button": false,
    "new_sheet": false,
    "run_control": {
     "read_only": false
    }
   },
   "outputs": [
    {
     "ename": "FileNotFoundError",
     "evalue": "[Errno 2] File b'loan_train.csv' does not exist: b'loan_train.csv'",
     "output_type": "error",
     "traceback": [
      "\u001b[0;31m---------------------------------------------------------------------------\u001b[0m",
      "\u001b[0;31mFileNotFoundError\u001b[0m                         Traceback (most recent call last)",
      "\u001b[0;32m<ipython-input-4-19dc90ceef28>\u001b[0m in \u001b[0;36m<module>\u001b[0;34m\u001b[0m\n\u001b[0;32m----> 1\u001b[0;31m \u001b[0mdf\u001b[0m \u001b[0;34m=\u001b[0m \u001b[0mpd\u001b[0m\u001b[0;34m.\u001b[0m\u001b[0mread_csv\u001b[0m\u001b[0;34m(\u001b[0m\u001b[0;34m'loan_train.csv'\u001b[0m\u001b[0;34m)\u001b[0m\u001b[0;34m\u001b[0m\u001b[0;34m\u001b[0m\u001b[0m\n\u001b[0m\u001b[1;32m      2\u001b[0m \u001b[0mdf\u001b[0m\u001b[0;34m.\u001b[0m\u001b[0mhead\u001b[0m\u001b[0;34m(\u001b[0m\u001b[0;34m)\u001b[0m\u001b[0;34m\u001b[0m\u001b[0;34m\u001b[0m\u001b[0m\n",
      "\u001b[0;32m~/anaconda3/lib/python3.7/site-packages/pandas/io/parsers.py\u001b[0m in \u001b[0;36mparser_f\u001b[0;34m(filepath_or_buffer, sep, delimiter, header, names, index_col, usecols, squeeze, prefix, mangle_dupe_cols, dtype, engine, converters, true_values, false_values, skipinitialspace, skiprows, skipfooter, nrows, na_values, keep_default_na, na_filter, verbose, skip_blank_lines, parse_dates, infer_datetime_format, keep_date_col, date_parser, dayfirst, iterator, chunksize, compression, thousands, decimal, lineterminator, quotechar, quoting, doublequote, escapechar, comment, encoding, dialect, tupleize_cols, error_bad_lines, warn_bad_lines, delim_whitespace, low_memory, memory_map, float_precision)\u001b[0m\n\u001b[1;32m    700\u001b[0m                     skip_blank_lines=skip_blank_lines)\n\u001b[1;32m    701\u001b[0m \u001b[0;34m\u001b[0m\u001b[0m\n\u001b[0;32m--> 702\u001b[0;31m         \u001b[0;32mreturn\u001b[0m \u001b[0m_read\u001b[0m\u001b[0;34m(\u001b[0m\u001b[0mfilepath_or_buffer\u001b[0m\u001b[0;34m,\u001b[0m \u001b[0mkwds\u001b[0m\u001b[0;34m)\u001b[0m\u001b[0;34m\u001b[0m\u001b[0;34m\u001b[0m\u001b[0m\n\u001b[0m\u001b[1;32m    703\u001b[0m \u001b[0;34m\u001b[0m\u001b[0m\n\u001b[1;32m    704\u001b[0m     \u001b[0mparser_f\u001b[0m\u001b[0;34m.\u001b[0m\u001b[0m__name__\u001b[0m \u001b[0;34m=\u001b[0m \u001b[0mname\u001b[0m\u001b[0;34m\u001b[0m\u001b[0;34m\u001b[0m\u001b[0m\n",
      "\u001b[0;32m~/anaconda3/lib/python3.7/site-packages/pandas/io/parsers.py\u001b[0m in \u001b[0;36m_read\u001b[0;34m(filepath_or_buffer, kwds)\u001b[0m\n\u001b[1;32m    427\u001b[0m \u001b[0;34m\u001b[0m\u001b[0m\n\u001b[1;32m    428\u001b[0m     \u001b[0;31m# Create the parser.\u001b[0m\u001b[0;34m\u001b[0m\u001b[0;34m\u001b[0m\u001b[0;34m\u001b[0m\u001b[0m\n\u001b[0;32m--> 429\u001b[0;31m     \u001b[0mparser\u001b[0m \u001b[0;34m=\u001b[0m \u001b[0mTextFileReader\u001b[0m\u001b[0;34m(\u001b[0m\u001b[0mfilepath_or_buffer\u001b[0m\u001b[0;34m,\u001b[0m \u001b[0;34m**\u001b[0m\u001b[0mkwds\u001b[0m\u001b[0;34m)\u001b[0m\u001b[0;34m\u001b[0m\u001b[0;34m\u001b[0m\u001b[0m\n\u001b[0m\u001b[1;32m    430\u001b[0m \u001b[0;34m\u001b[0m\u001b[0m\n\u001b[1;32m    431\u001b[0m     \u001b[0;32mif\u001b[0m \u001b[0mchunksize\u001b[0m \u001b[0;32mor\u001b[0m \u001b[0miterator\u001b[0m\u001b[0;34m:\u001b[0m\u001b[0;34m\u001b[0m\u001b[0;34m\u001b[0m\u001b[0m\n",
      "\u001b[0;32m~/anaconda3/lib/python3.7/site-packages/pandas/io/parsers.py\u001b[0m in \u001b[0;36m__init__\u001b[0;34m(self, f, engine, **kwds)\u001b[0m\n\u001b[1;32m    893\u001b[0m             \u001b[0mself\u001b[0m\u001b[0;34m.\u001b[0m\u001b[0moptions\u001b[0m\u001b[0;34m[\u001b[0m\u001b[0;34m'has_index_names'\u001b[0m\u001b[0;34m]\u001b[0m \u001b[0;34m=\u001b[0m \u001b[0mkwds\u001b[0m\u001b[0;34m[\u001b[0m\u001b[0;34m'has_index_names'\u001b[0m\u001b[0;34m]\u001b[0m\u001b[0;34m\u001b[0m\u001b[0;34m\u001b[0m\u001b[0m\n\u001b[1;32m    894\u001b[0m \u001b[0;34m\u001b[0m\u001b[0m\n\u001b[0;32m--> 895\u001b[0;31m         \u001b[0mself\u001b[0m\u001b[0;34m.\u001b[0m\u001b[0m_make_engine\u001b[0m\u001b[0;34m(\u001b[0m\u001b[0mself\u001b[0m\u001b[0;34m.\u001b[0m\u001b[0mengine\u001b[0m\u001b[0;34m)\u001b[0m\u001b[0;34m\u001b[0m\u001b[0;34m\u001b[0m\u001b[0m\n\u001b[0m\u001b[1;32m    896\u001b[0m \u001b[0;34m\u001b[0m\u001b[0m\n\u001b[1;32m    897\u001b[0m     \u001b[0;32mdef\u001b[0m \u001b[0mclose\u001b[0m\u001b[0;34m(\u001b[0m\u001b[0mself\u001b[0m\u001b[0;34m)\u001b[0m\u001b[0;34m:\u001b[0m\u001b[0;34m\u001b[0m\u001b[0;34m\u001b[0m\u001b[0m\n",
      "\u001b[0;32m~/anaconda3/lib/python3.7/site-packages/pandas/io/parsers.py\u001b[0m in \u001b[0;36m_make_engine\u001b[0;34m(self, engine)\u001b[0m\n\u001b[1;32m   1120\u001b[0m     \u001b[0;32mdef\u001b[0m \u001b[0m_make_engine\u001b[0m\u001b[0;34m(\u001b[0m\u001b[0mself\u001b[0m\u001b[0;34m,\u001b[0m \u001b[0mengine\u001b[0m\u001b[0;34m=\u001b[0m\u001b[0;34m'c'\u001b[0m\u001b[0;34m)\u001b[0m\u001b[0;34m:\u001b[0m\u001b[0;34m\u001b[0m\u001b[0;34m\u001b[0m\u001b[0m\n\u001b[1;32m   1121\u001b[0m         \u001b[0;32mif\u001b[0m \u001b[0mengine\u001b[0m \u001b[0;34m==\u001b[0m \u001b[0;34m'c'\u001b[0m\u001b[0;34m:\u001b[0m\u001b[0;34m\u001b[0m\u001b[0;34m\u001b[0m\u001b[0m\n\u001b[0;32m-> 1122\u001b[0;31m             \u001b[0mself\u001b[0m\u001b[0;34m.\u001b[0m\u001b[0m_engine\u001b[0m \u001b[0;34m=\u001b[0m \u001b[0mCParserWrapper\u001b[0m\u001b[0;34m(\u001b[0m\u001b[0mself\u001b[0m\u001b[0;34m.\u001b[0m\u001b[0mf\u001b[0m\u001b[0;34m,\u001b[0m \u001b[0;34m**\u001b[0m\u001b[0mself\u001b[0m\u001b[0;34m.\u001b[0m\u001b[0moptions\u001b[0m\u001b[0;34m)\u001b[0m\u001b[0;34m\u001b[0m\u001b[0;34m\u001b[0m\u001b[0m\n\u001b[0m\u001b[1;32m   1123\u001b[0m         \u001b[0;32melse\u001b[0m\u001b[0;34m:\u001b[0m\u001b[0;34m\u001b[0m\u001b[0;34m\u001b[0m\u001b[0m\n\u001b[1;32m   1124\u001b[0m             \u001b[0;32mif\u001b[0m \u001b[0mengine\u001b[0m \u001b[0;34m==\u001b[0m \u001b[0;34m'python'\u001b[0m\u001b[0;34m:\u001b[0m\u001b[0;34m\u001b[0m\u001b[0;34m\u001b[0m\u001b[0m\n",
      "\u001b[0;32m~/anaconda3/lib/python3.7/site-packages/pandas/io/parsers.py\u001b[0m in \u001b[0;36m__init__\u001b[0;34m(self, src, **kwds)\u001b[0m\n\u001b[1;32m   1851\u001b[0m         \u001b[0mkwds\u001b[0m\u001b[0;34m[\u001b[0m\u001b[0;34m'usecols'\u001b[0m\u001b[0;34m]\u001b[0m \u001b[0;34m=\u001b[0m \u001b[0mself\u001b[0m\u001b[0;34m.\u001b[0m\u001b[0musecols\u001b[0m\u001b[0;34m\u001b[0m\u001b[0;34m\u001b[0m\u001b[0m\n\u001b[1;32m   1852\u001b[0m \u001b[0;34m\u001b[0m\u001b[0m\n\u001b[0;32m-> 1853\u001b[0;31m         \u001b[0mself\u001b[0m\u001b[0;34m.\u001b[0m\u001b[0m_reader\u001b[0m \u001b[0;34m=\u001b[0m \u001b[0mparsers\u001b[0m\u001b[0;34m.\u001b[0m\u001b[0mTextReader\u001b[0m\u001b[0;34m(\u001b[0m\u001b[0msrc\u001b[0m\u001b[0;34m,\u001b[0m \u001b[0;34m**\u001b[0m\u001b[0mkwds\u001b[0m\u001b[0;34m)\u001b[0m\u001b[0;34m\u001b[0m\u001b[0;34m\u001b[0m\u001b[0m\n\u001b[0m\u001b[1;32m   1854\u001b[0m         \u001b[0mself\u001b[0m\u001b[0;34m.\u001b[0m\u001b[0munnamed_cols\u001b[0m \u001b[0;34m=\u001b[0m \u001b[0mself\u001b[0m\u001b[0;34m.\u001b[0m\u001b[0m_reader\u001b[0m\u001b[0;34m.\u001b[0m\u001b[0munnamed_cols\u001b[0m\u001b[0;34m\u001b[0m\u001b[0;34m\u001b[0m\u001b[0m\n\u001b[1;32m   1855\u001b[0m \u001b[0;34m\u001b[0m\u001b[0m\n",
      "\u001b[0;32mpandas/_libs/parsers.pyx\u001b[0m in \u001b[0;36mpandas._libs.parsers.TextReader.__cinit__\u001b[0;34m()\u001b[0m\n",
      "\u001b[0;32mpandas/_libs/parsers.pyx\u001b[0m in \u001b[0;36mpandas._libs.parsers.TextReader._setup_parser_source\u001b[0;34m()\u001b[0m\n",
      "\u001b[0;31mFileNotFoundError\u001b[0m: [Errno 2] File b'loan_train.csv' does not exist: b'loan_train.csv'"
     ]
    }
   ],
   "source": [
    "df = pd.read_csv('loan_train.csv')\n",
    "df.head()\n"
   ]
  },
  {
   "cell_type": "code",
   "execution_count": null,
   "metadata": {},
   "outputs": [],
   "source": [
    "! sudo pip3 install wget"
   ]
  },
  {
   "cell_type": "code",
   "execution_count": null,
   "metadata": {},
   "outputs": [],
   "source": []
  },
  {
   "cell_type": "code",
   "execution_count": 13,
   "metadata": {},
   "outputs": [
    {
     "ename": "NameError",
     "evalue": "name 'df' is not defined",
     "output_type": "error",
     "traceback": [
      "\u001b[0;31m---------------------------------------------------------------------------\u001b[0m",
      "\u001b[0;31mNameError\u001b[0m                                 Traceback (most recent call last)",
      "\u001b[0;32m<ipython-input-13-633337079cd0>\u001b[0m in \u001b[0;36m<module>\u001b[0;34m\u001b[0m\n\u001b[0;32m----> 1\u001b[0;31m \u001b[0mdf\u001b[0m\u001b[0;34m.\u001b[0m\u001b[0mshape\u001b[0m\u001b[0;34m\u001b[0m\u001b[0;34m\u001b[0m\u001b[0m\n\u001b[0m",
      "\u001b[0;31mNameError\u001b[0m: name 'df' is not defined"
     ]
    }
   ],
   "source": [
    "df.shape"
   ]
  },
  {
   "cell_type": "markdown",
   "metadata": {
    "button": false,
    "new_sheet": false,
    "run_control": {
     "read_only": false
    }
   },
   "source": [
    "### Convert to date time object "
   ]
  },
  {
   "cell_type": "code",
   "execution_count": 17,
   "metadata": {
    "button": false,
    "new_sheet": false,
    "run_control": {
     "read_only": false
    }
   },
   "outputs": [
    {
     "ename": "NameError",
     "evalue": "name 'df' is not defined",
     "output_type": "error",
     "traceback": [
      "\u001b[0;31m---------------------------------------------------------------------------\u001b[0m",
      "\u001b[0;31mNameError\u001b[0m                                 Traceback (most recent call last)",
      "\u001b[0;32m<ipython-input-17-71ccd7d4bdc9>\u001b[0m in \u001b[0;36m<module>\u001b[0;34m\u001b[0m\n\u001b[0;32m----> 1\u001b[0;31m \u001b[0mdf\u001b[0m\u001b[0;34m[\u001b[0m\u001b[0;34m'due_date'\u001b[0m\u001b[0;34m]\u001b[0m \u001b[0;34m=\u001b[0m \u001b[0mpd\u001b[0m\u001b[0;34m.\u001b[0m\u001b[0mto_datetime\u001b[0m\u001b[0;34m(\u001b[0m\u001b[0mdf\u001b[0m\u001b[0;34m[\u001b[0m\u001b[0;34m'due_date'\u001b[0m\u001b[0;34m]\u001b[0m\u001b[0;34m)\u001b[0m\u001b[0;34m\u001b[0m\u001b[0;34m\u001b[0m\u001b[0m\n\u001b[0m\u001b[1;32m      2\u001b[0m \u001b[0mdf\u001b[0m\u001b[0;34m[\u001b[0m\u001b[0;34m'effective_date'\u001b[0m\u001b[0;34m]\u001b[0m \u001b[0;34m=\u001b[0m \u001b[0mpd\u001b[0m\u001b[0;34m.\u001b[0m\u001b[0mto_datetime\u001b[0m\u001b[0;34m(\u001b[0m\u001b[0mdf\u001b[0m\u001b[0;34m[\u001b[0m\u001b[0;34m'effective_date'\u001b[0m\u001b[0;34m]\u001b[0m\u001b[0;34m)\u001b[0m\u001b[0;34m\u001b[0m\u001b[0;34m\u001b[0m\u001b[0m\n\u001b[1;32m      3\u001b[0m \u001b[0mdf\u001b[0m\u001b[0;34m.\u001b[0m\u001b[0mhead\u001b[0m\u001b[0;34m(\u001b[0m\u001b[0;34m)\u001b[0m\u001b[0;34m\u001b[0m\u001b[0;34m\u001b[0m\u001b[0m\n",
      "\u001b[0;31mNameError\u001b[0m: name 'df' is not defined"
     ]
    }
   ],
   "source": [
    "df['due_date'] = pd.to_datetime(df['due_date'])\n",
    "df['effective_date'] = pd.to_datetime(df['effective_date'])\n",
    "df.head()"
   ]
  },
  {
   "cell_type": "markdown",
   "metadata": {
    "button": false,
    "new_sheet": false,
    "run_control": {
     "read_only": false
    }
   },
   "source": [
    "# Data visualization and pre-processing\n",
    "\n"
   ]
  },
  {
   "cell_type": "markdown",
   "metadata": {
    "button": false,
    "new_sheet": false,
    "run_control": {
     "read_only": false
    }
   },
   "source": [
    "Let’s see how many of each class is in our data set "
   ]
  },
  {
   "cell_type": "code",
   "execution_count": 18,
   "metadata": {
    "button": false,
    "new_sheet": false,
    "run_control": {
     "read_only": false
    }
   },
   "outputs": [
    {
     "ename": "NameError",
     "evalue": "name 'df' is not defined",
     "output_type": "error",
     "traceback": [
      "\u001b[0;31m---------------------------------------------------------------------------\u001b[0m",
      "\u001b[0;31mNameError\u001b[0m                                 Traceback (most recent call last)",
      "\u001b[0;32m<ipython-input-18-2f1eafeb23ad>\u001b[0m in \u001b[0;36m<module>\u001b[0;34m\u001b[0m\n\u001b[0;32m----> 1\u001b[0;31m \u001b[0mdf\u001b[0m\u001b[0;34m[\u001b[0m\u001b[0;34m'loan_status'\u001b[0m\u001b[0;34m]\u001b[0m\u001b[0;34m.\u001b[0m\u001b[0mvalue_counts\u001b[0m\u001b[0;34m(\u001b[0m\u001b[0;34m)\u001b[0m\u001b[0;34m\u001b[0m\u001b[0;34m\u001b[0m\u001b[0m\n\u001b[0m",
      "\u001b[0;31mNameError\u001b[0m: name 'df' is not defined"
     ]
    }
   ],
   "source": [
    "df['loan_status'].value_counts()"
   ]
  },
  {
   "cell_type": "markdown",
   "metadata": {
    "button": false,
    "new_sheet": false,
    "run_control": {
     "read_only": false
    }
   },
   "source": [
    "260 people have paid off the loan on time while 86 have gone into collection \n"
   ]
  },
  {
   "cell_type": "markdown",
   "metadata": {},
   "source": [
    "Lets plot some columns to underestand data better:"
   ]
  },
  {
   "cell_type": "code",
   "execution_count": 19,
   "metadata": {},
   "outputs": [
    {
     "name": "stdout",
     "output_type": "stream",
     "text": [
      "Collecting package metadata (current_repodata.json): done\n",
      "Solving environment: done\n",
      "\n",
      "## Package Plan ##\n",
      "\n",
      "  environment location: /Users/admin/anaconda3\n",
      "\n",
      "  added / updated specs:\n",
      "    - seaborn\n",
      "\n",
      "\n",
      "The following packages will be downloaded:\n",
      "\n",
      "    package                    |            build\n",
      "    ---------------------------|-----------------\n",
      "    ca-certificates-2019.11.27 |                0         131 KB  anaconda\n",
      "    certifi-2019.11.28         |           py37_0         156 KB  anaconda\n",
      "    openssl-1.1.1              |       h1de35cc_0         4.6 MB  anaconda\n",
      "    seaborn-0.9.0              |     pyh91ea838_1         164 KB  anaconda\n",
      "    ------------------------------------------------------------\n",
      "                                           Total:         5.1 MB\n",
      "\n",
      "The following packages will be UPDATED:\n",
      "\n",
      "  ca-certificates    conda-forge::ca-certificates-2019.9.1~ --> anaconda::ca-certificates-2019.11.27-0\n",
      "  certifi             conda-forge::certifi-2019.9.11-py37_0 --> anaconda::certifi-2019.11.28-py37_0\n",
      "  openssl            conda-forge::openssl-1.1.1c-h01d97ff_0 --> anaconda::openssl-1.1.1-h1de35cc_0\n",
      "  seaborn            pkgs/main/osx-64::seaborn-0.9.0-py37_0 --> anaconda/noarch::seaborn-0.9.0-pyh91ea838_1\n",
      "\n",
      "\n",
      "\n",
      "Downloading and Extracting Packages\n",
      "certifi-2019.11.28   | 156 KB    | ##################################### | 100% \n",
      "openssl-1.1.1        | 4.6 MB    | ##################################### | 100% \n",
      "ca-certificates-2019 | 131 KB    | ##################################### | 100% \n",
      "seaborn-0.9.0        | 164 KB    | ##################################### | 100% \n",
      "Preparing transaction: done\n",
      "Verifying transaction: done\n",
      "Executing transaction: done\n"
     ]
    }
   ],
   "source": [
    "# notice: installing seaborn might takes a few minutes\n",
    "!conda install -c anaconda seaborn -y"
   ]
  },
  {
   "cell_type": "code",
   "execution_count": 77,
   "metadata": {},
   "outputs": [
    {
     "name": "stdout",
     "output_type": "stream",
     "text": [
      "Collecting pydotplus\n",
      "\u001b[?25l  Downloading https://files.pythonhosted.org/packages/60/bf/62567830b700d9f6930e9ab6831d6ba256f7b0b730acb37278b0ccdffacf/pydotplus-2.0.2.tar.gz (278kB)\n",
      "\u001b[K     |████████████████████████████████| 286kB 19.0MB/s eta 0:00:01\n",
      "\u001b[?25hRequirement already satisfied: pyparsing>=2.0.1 in /opt/conda/envs/Python36/lib/python3.6/site-packages (from pydotplus) (2.3.1)\n",
      "Building wheels for collected packages: pydotplus\n",
      "  Building wheel for pydotplus (setup.py) ... \u001b[?25ldone\n",
      "\u001b[?25h  Stored in directory: /home/dsxuser/.cache/pip/wheels/35/7b/ab/66fb7b2ac1f6df87475b09dc48e707b6e0de80a6d8444e3628\n",
      "Successfully built pydotplus\n",
      "Installing collected packages: pydotplus\n",
      "Successfully installed pydotplus-2.0.2\n"
     ]
    }
   ],
   "source": [
    "! pip install pydotplus"
   ]
  },
  {
   "cell_type": "code",
   "execution_count": 214,
   "metadata": {},
   "outputs": [
    {
     "data": {
      "image/png": "[encoded data removed]",
      "text/plain": [
       "<Figure size 432x216 with 2 Axes>"
      ]
     },
     "metadata": {
      "needs_background": "light"
     },
     "output_type": "display_data"
    }
   ],
   "source": [
    "import seaborn as sns\n",
    "\n",
    "bins = np.linspace(df.Principal.min(), df.Principal.max(), 10)\n",
    "g = sns.FacetGrid(df, col=\"Gender\", hue=\"loan_status\", palette=\"Set1\", col_wrap=2)\n",
    "g.map(plt.hist, 'Principal', bins=bins, ec=\"k\")\n",
    "\n",
    "g.axes[-1].legend()\n",
    "plt.show()"
   ]
  },
  {
   "cell_type": "code",
   "execution_count": 215,
   "metadata": {
    "button": false,
    "new_sheet": false,
    "run_control": {
     "read_only": false
    }
   },
   "outputs": [
    {
     "data": {
      "image/png": "[encoded data removed]",
      "text/plain": [
       "<Figure size 432x216 with 2 Axes>"
      ]
     },
     "metadata": {
      "needs_background": "light"
     },
     "output_type": "display_data"
    }
   ],
   "source": [
    "bins = np.linspace(df.age.min(), df.age.max(), 10)\n",
    "g = sns.FacetGrid(df, col=\"Gender\", hue=\"loan_status\", palette=\"Set1\", col_wrap=2)\n",
    "g.map(plt.hist, 'age', bins=bins, ec=\"k\")\n",
    "\n",
    "g.axes[-1].legend()\n",
    "plt.show()"
   ]
  },
  {
   "cell_type": "markdown",
   "metadata": {
    "button": false,
    "new_sheet": false,
    "run_control": {
     "read_only": false
    }
   },
   "source": [
    "# Pre-processing:  Feature selection/extraction"
   ]
  },
  {
   "cell_type": "markdown",
   "metadata": {
    "button": false,
    "new_sheet": false,
    "run_control": {
     "read_only": false
    }
   },
   "source": [
    "### Lets look at the day of the week people get the loan "
   ]
  },
  {
   "cell_type": "code",
   "execution_count": 216,
   "metadata": {
    "button": false,
    "new_sheet": false,
    "run_control": {
     "read_only": false
    }
   },
   "outputs": [
    {
     "data": {
      "image/png": "[encoded data removed]",
      "text/plain": [
       "<Figure size 432x216 with 2 Axes>"
      ]
     },
     "metadata": {
      "needs_background": "light"
     },
     "output_type": "display_data"
    }
   ],
   "source": [
    "df['dayofweek'] = df['effective_date'].dt.dayofweek\n",
    "bins = np.linspace(df.dayofweek.min(), df.dayofweek.max(), 10)\n",
    "g = sns.FacetGrid(df, col=\"Gender\", hue=\"loan_status\", palette=\"Set1\", col_wrap=2)\n",
    "g.map(plt.hist, 'dayofweek', bins=bins, ec=\"k\")\n",
    "g.axes[-1].legend()\n",
    "plt.show()\n"
   ]
  },
  {
   "cell_type": "markdown",
   "metadata": {
    "button": false,
    "new_sheet": false,
    "run_control": {
     "read_only": false
    }
   },
   "source": [
    "We see that people who get the loan at the end of the week dont pay it off, so lets use Feature binarization to set a threshold values less then day 4 "
   ]
  },
  {
   "cell_type": "code",
   "execution_count": 217,
   "metadata": {
    "button": false,
    "new_sheet": false,
    "run_control": {
     "read_only": false
    }
   },
   "outputs": [
    {
     "data": {
      "text/html": [
       "<div>\n",
       "<style scoped>\n",
       "    .dataframe tbody tr th:only-of-type {\n",
       "        vertical-align: middle;\n",
       "    }\n",
       "\n",
       "    .dataframe tbody tr th {\n",
       "        vertical-align: top;\n",
       "    }\n",
       "\n",
       "    .dataframe thead th {\n",
       "        text-align: right;\n",
       "    }\n",
       "</style>\n",
       "<table border=\"1\" class=\"dataframe\">\n",
       "  <thead>\n",
       "    <tr style=\"text-align: right;\">\n",
       "      <th></th>\n",
       "      <th>Unnamed: 0</th>\n",
       "      <th>Unnamed: 0.1</th>\n",
       "      <th>loan_status</th>\n",
       "      <th>Principal</th>\n",
       "      <th>terms</th>\n",
       "      <th>effective_date</th>\n",
       "      <th>due_date</th>\n",
       "      <th>age</th>\n",
       "      <th>education</th>\n",
       "      <th>Gender</th>\n",
       "      <th>dayofweek</th>\n",
       "      <th>weekend</th>\n",
       "    </tr>\n",
       "  </thead>\n",
       "  <tbody>\n",
       "    <tr>\n",
       "      <th>0</th>\n",
       "      <td>0</td>\n",
       "      <td>0</td>\n",
       "      <td>PAIDOFF</td>\n",
       "      <td>1000</td>\n",
       "      <td>30</td>\n",
       "      <td>2016-09-08</td>\n",
       "      <td>2016-10-07</td>\n",
       "      <td>45</td>\n",
       "      <td>High School or Below</td>\n",
       "      <td>male</td>\n",
       "      <td>3</td>\n",
       "      <td>0</td>\n",
       "    </tr>\n",
       "    <tr>\n",
       "      <th>1</th>\n",
       "      <td>2</td>\n",
       "      <td>2</td>\n",
       "      <td>PAIDOFF</td>\n",
       "      <td>1000</td>\n",
       "      <td>30</td>\n",
       "      <td>2016-09-08</td>\n",
       "      <td>2016-10-07</td>\n",
       "      <td>33</td>\n",
       "      <td>Bechalor</td>\n",
       "      <td>female</td>\n",
       "      <td>3</td>\n",
       "      <td>0</td>\n",
       "    </tr>\n",
       "    <tr>\n",
       "      <th>2</th>\n",
       "      <td>3</td>\n",
       "      <td>3</td>\n",
       "      <td>PAIDOFF</td>\n",
       "      <td>1000</td>\n",
       "      <td>15</td>\n",
       "      <td>2016-09-08</td>\n",
       "      <td>2016-09-22</td>\n",
       "      <td>27</td>\n",
       "      <td>college</td>\n",
       "      <td>male</td>\n",
       "      <td>3</td>\n",
       "      <td>0</td>\n",
       "    </tr>\n",
       "    <tr>\n",
       "      <th>3</th>\n",
       "      <td>4</td>\n",
       "      <td>4</td>\n",
       "      <td>PAIDOFF</td>\n",
       "      <td>1000</td>\n",
       "      <td>30</td>\n",
       "      <td>2016-09-09</td>\n",
       "      <td>2016-10-08</td>\n",
       "      <td>28</td>\n",
       "      <td>college</td>\n",
       "      <td>female</td>\n",
       "      <td>4</td>\n",
       "      <td>1</td>\n",
       "    </tr>\n",
       "    <tr>\n",
       "      <th>4</th>\n",
       "      <td>6</td>\n",
       "      <td>6</td>\n",
       "      <td>PAIDOFF</td>\n",
       "      <td>1000</td>\n",
       "      <td>30</td>\n",
       "      <td>2016-09-09</td>\n",
       "      <td>2016-10-08</td>\n",
       "      <td>29</td>\n",
       "      <td>college</td>\n",
       "      <td>male</td>\n",
       "      <td>4</td>\n",
       "      <td>1</td>\n",
       "    </tr>\n",
       "  </tbody>\n",
       "</table>\n",
       "</div>"
      ],
      "text/plain": [
       "   Unnamed: 0  Unnamed: 0.1 loan_status  Principal  terms effective_date  \\\n",
       "0           0             0     PAIDOFF       1000     30     2016-09-08   \n",
       "1           2             2     PAIDOFF       1000     30     2016-09-08   \n",
       "2           3             3     PAIDOFF       1000     15     2016-09-08   \n",
       "3           4             4     PAIDOFF       1000     30     2016-09-09   \n",
       "4           6             6     PAIDOFF       1000     30     2016-09-09   \n",
       "\n",
       "    due_date  age             education  Gender  dayofweek  weekend  \n",
       "0 2016-10-07   45  High School or Below    male          3        0  \n",
       "1 2016-10-07   33              Bechalor  female          3        0  \n",
       "2 2016-09-22   27               college    male          3        0  \n",
       "3 2016-10-08   28               college  female          4        1  \n",
       "4 2016-10-08   29               college    male          4        1  "
      ]
     },
     "execution_count": 217,
     "metadata": {},
     "output_type": "execute_result"
    }
   ],
   "source": [
    "df['weekend'] = df['dayofweek'].apply(lambda x: 1 if (x>3)  else 0)\n",
    "df.head()"
   ]
  },
  {
   "cell_type": "markdown",
   "metadata": {
    "button": false,
    "new_sheet": false,
    "run_control": {
     "read_only": false
    }
   },
   "source": [
    "## Convert Categorical features to numerical values"
   ]
  },
  {
   "cell_type": "markdown",
   "metadata": {
    "button": false,
    "new_sheet": false,
    "run_control": {
     "read_only": false
    }
   },
   "source": [
    "Lets look at gender:"
   ]
  },
  {
   "cell_type": "code",
   "execution_count": 218,
   "metadata": {
    "button": false,
    "new_sheet": false,
    "run_control": {
     "read_only": false
    }
   },
   "outputs": [
    {
     "data": {
      "text/plain": [
       "Gender  loan_status\n",
       "female  PAIDOFF        0.865385\n",
       "        COLLECTION     0.134615\n",
       "male    PAIDOFF        0.731293\n",
       "        COLLECTION     0.268707\n",
       "Name: loan_status, dtype: float64"
      ]
     },
     "execution_count": 218,
     "metadata": {},
     "output_type": "execute_result"
    }
   ],
   "source": [
    "df.groupby(['Gender'])['loan_status'].value_counts(normalize=True)"
   ]
  },
  {
   "cell_type": "markdown",
   "metadata": {
    "button": false,
    "new_sheet": false,
    "run_control": {
     "read_only": false
    }
   },
   "source": [
    "86 % of female pay there loans while only 73 % of males pay there loan\n"
   ]
  },
  {
   "cell_type": "markdown",
   "metadata": {
    "button": false,
    "new_sheet": false,
    "run_control": {
     "read_only": false
    }
   },
   "source": [
    "Lets convert male to 0 and female to 1:\n"
   ]
  },
  {
   "cell_type": "code",
   "execution_count": 219,
   "metadata": {
    "button": false,
    "new_sheet": false,
    "run_control": {
     "read_only": false
    }
   },
   "outputs": [
    {
     "data": {
      "text/html": [
       "<div>\n",
       "<style scoped>\n",
       "    .dataframe tbody tr th:only-of-type {\n",
       "        vertical-align: middle;\n",
       "    }\n",
       "\n",
       "    .dataframe tbody tr th {\n",
       "        vertical-align: top;\n",
       "    }\n",
       "\n",
       "    .dataframe thead th {\n",
       "        text-align: right;\n",
       "    }\n",
       "</style>\n",
       "<table border=\"1\" class=\"dataframe\">\n",
       "  <thead>\n",
       "    <tr style=\"text-align: right;\">\n",
       "      <th></th>\n",
       "      <th>Unnamed: 0</th>\n",
       "      <th>Unnamed: 0.1</th>\n",
       "      <th>loan_status</th>\n",
       "      <th>Principal</th>\n",
       "      <th>terms</th>\n",
       "      <th>effective_date</th>\n",
       "      <th>due_date</th>\n",
       "      <th>age</th>\n",
       "      <th>education</th>\n",
       "      <th>Gender</th>\n",
       "      <th>dayofweek</th>\n",
       "      <th>weekend</th>\n",
       "    </tr>\n",
       "  </thead>\n",
       "  <tbody>\n",
       "    <tr>\n",
       "      <th>0</th>\n",
       "      <td>0</td>\n",
       "      <td>0</td>\n",
       "      <td>PAIDOFF</td>\n",
       "      <td>1000</td>\n",
       "      <td>30</td>\n",
       "      <td>2016-09-08</td>\n",
       "      <td>2016-10-07</td>\n",
       "      <td>45</td>\n",
       "      <td>High School or Below</td>\n",
       "      <td>0</td>\n",
       "      <td>3</td>\n",
       "      <td>0</td>\n",
       "    </tr>\n",
       "    <tr>\n",
       "      <th>1</th>\n",
       "      <td>2</td>\n",
       "      <td>2</td>\n",
       "      <td>PAIDOFF</td>\n",
       "      <td>1000</td>\n",
       "      <td>30</td>\n",
       "      <td>2016-09-08</td>\n",
       "      <td>2016-10-07</td>\n",
       "      <td>33</td>\n",
       "      <td>Bechalor</td>\n",
       "      <td>1</td>\n",
       "      <td>3</td>\n",
       "      <td>0</td>\n",
       "    </tr>\n",
       "    <tr>\n",
       "      <th>2</th>\n",
       "      <td>3</td>\n",
       "      <td>3</td>\n",
       "      <td>PAIDOFF</td>\n",
       "      <td>1000</td>\n",
       "      <td>15</td>\n",
       "      <td>2016-09-08</td>\n",
       "      <td>2016-09-22</td>\n",
       "      <td>27</td>\n",
       "      <td>college</td>\n",
       "      <td>0</td>\n",
       "      <td>3</td>\n",
       "      <td>0</td>\n",
       "    </tr>\n",
       "    <tr>\n",
       "      <th>3</th>\n",
       "      <td>4</td>\n",
       "      <td>4</td>\n",
       "      <td>PAIDOFF</td>\n",
       "      <td>1000</td>\n",
       "      <td>30</td>\n",
       "      <td>2016-09-09</td>\n",
       "      <td>2016-10-08</td>\n",
       "      <td>28</td>\n",
       "      <td>college</td>\n",
       "      <td>1</td>\n",
       "      <td>4</td>\n",
       "      <td>1</td>\n",
       "    </tr>\n",
       "    <tr>\n",
       "      <th>4</th>\n",
       "      <td>6</td>\n",
       "      <td>6</td>\n",
       "      <td>PAIDOFF</td>\n",
       "      <td>1000</td>\n",
       "      <td>30</td>\n",
       "      <td>2016-09-09</td>\n",
       "      <td>2016-10-08</td>\n",
       "      <td>29</td>\n",
       "      <td>college</td>\n",
       "      <td>0</td>\n",
       "      <td>4</td>\n",
       "      <td>1</td>\n",
       "    </tr>\n",
       "  </tbody>\n",
       "</table>\n",
       "</div>"
      ],
      "text/plain": [
       "   Unnamed: 0  Unnamed: 0.1 loan_status  Principal  terms effective_date  \\\n",
       "0           0             0     PAIDOFF       1000     30     2016-09-08   \n",
       "1           2             2     PAIDOFF       1000     30     2016-09-08   \n",
       "2           3             3     PAIDOFF       1000     15     2016-09-08   \n",
       "3           4             4     PAIDOFF       1000     30     2016-09-09   \n",
       "4           6             6     PAIDOFF       1000     30     2016-09-09   \n",
       "\n",
       "    due_date  age             education  Gender  dayofweek  weekend  \n",
       "0 2016-10-07   45  High School or Below       0          3        0  \n",
       "1 2016-10-07   33              Bechalor       1          3        0  \n",
       "2 2016-09-22   27               college       0          3        0  \n",
       "3 2016-10-08   28               college       1          4        1  \n",
       "4 2016-10-08   29               college       0          4        1  "
      ]
     },
     "execution_count": 219,
     "metadata": {},
     "output_type": "execute_result"
    }
   ],
   "source": [
    "df['Gender'].replace(to_replace=['male','female'], value=[0,1],inplace=True)\n",
    "df.head()"
   ]
  },
  {
   "cell_type": "markdown",
   "metadata": {
    "button": false,
    "new_sheet": false,
    "run_control": {
     "read_only": false
    }
   },
   "source": [
    "## One Hot Encoding  \n",
    "#### How about education?"
   ]
  },
  {
   "cell_type": "code",
   "execution_count": 220,
   "metadata": {
    "button": false,
    "new_sheet": false,
    "run_control": {
     "read_only": false
    }
   },
   "outputs": [
    {
     "data": {
      "text/plain": [
       "education             loan_status\n",
       "Bechalor              PAIDOFF        0.750000\n",
       "                      COLLECTION     0.250000\n",
       "High School or Below  PAIDOFF        0.741722\n",
       "                      COLLECTION     0.258278\n",
       "Master or Above       COLLECTION     0.500000\n",
       "                      PAIDOFF        0.500000\n",
       "college               PAIDOFF        0.765101\n",
       "                      COLLECTION     0.234899\n",
       "Name: loan_status, dtype: float64"
      ]
     },
     "execution_count": 220,
     "metadata": {},
     "output_type": "execute_result"
    }
   ],
   "source": [
    "df.groupby(['education'])['loan_status'].value_counts(normalize=True)"
   ]
  },
  {
   "cell_type": "markdown",
   "metadata": {
    "button": false,
    "new_sheet": false,
    "run_control": {
     "read_only": false
    }
   },
   "source": [
    "#### Feature befor One Hot Encoding"
   ]
  },
  {
   "cell_type": "code",
   "execution_count": 221,
   "metadata": {
    "button": false,
    "new_sheet": false,
    "run_control": {
     "read_only": false
    }
   },
   "outputs": [
    {
     "data": {
      "text/html": [
       "<div>\n",
       "<style scoped>\n",
       "    .dataframe tbody tr th:only-of-type {\n",
       "        vertical-align: middle;\n",
       "    }\n",
       "\n",
       "    .dataframe tbody tr th {\n",
       "        vertical-align: top;\n",
       "    }\n",
       "\n",
       "    .dataframe thead th {\n",
       "        text-align: right;\n",
       "    }\n",
       "</style>\n",
       "<table border=\"1\" class=\"dataframe\">\n",
       "  <thead>\n",
       "    <tr style=\"text-align: right;\">\n",
       "      <th></th>\n",
       "      <th>Principal</th>\n",
       "      <th>terms</th>\n",
       "      <th>age</th>\n",
       "      <th>Gender</th>\n",
       "      <th>education</th>\n",
       "    </tr>\n",
       "  </thead>\n",
       "  <tbody>\n",
       "    <tr>\n",
       "      <th>0</th>\n",
       "      <td>1000</td>\n",
       "      <td>30</td>\n",
       "      <td>45</td>\n",
       "      <td>0</td>\n",
       "      <td>High School or Below</td>\n",
       "    </tr>\n",
       "    <tr>\n",
       "      <th>1</th>\n",
       "      <td>1000</td>\n",
       "      <td>30</td>\n",
       "      <td>33</td>\n",
       "      <td>1</td>\n",
       "      <td>Bechalor</td>\n",
       "    </tr>\n",
       "    <tr>\n",
       "      <th>2</th>\n",
       "      <td>1000</td>\n",
       "      <td>15</td>\n",
       "      <td>27</td>\n",
       "      <td>0</td>\n",
       "      <td>college</td>\n",
       "    </tr>\n",
       "    <tr>\n",
       "      <th>3</th>\n",
       "      <td>1000</td>\n",
       "      <td>30</td>\n",
       "      <td>28</td>\n",
       "      <td>1</td>\n",
       "      <td>college</td>\n",
       "    </tr>\n",
       "    <tr>\n",
       "      <th>4</th>\n",
       "      <td>1000</td>\n",
       "      <td>30</td>\n",
       "      <td>29</td>\n",
       "      <td>0</td>\n",
       "      <td>college</td>\n",
       "    </tr>\n",
       "  </tbody>\n",
       "</table>\n",
       "</div>"
      ],
      "text/plain": [
       "   Principal  terms  age  Gender             education\n",
       "0       1000     30   45       0  High School or Below\n",
       "1       1000     30   33       1              Bechalor\n",
       "2       1000     15   27       0               college\n",
       "3       1000     30   28       1               college\n",
       "4       1000     30   29       0               college"
      ]
     },
     "execution_count": 221,
     "metadata": {},
     "output_type": "execute_result"
    }
   ],
   "source": [
    "df[['Principal','terms','age','Gender','education']].head()"
   ]
  },
  {
   "cell_type": "markdown",
   "metadata": {
    "button": false,
    "new_sheet": false,
    "run_control": {
     "read_only": false
    }
   },
   "source": [
    "#### Use one hot encoding technique to conver categorical varables to binary variables and append them to the feature Data Frame "
   ]
  },
  {
   "cell_type": "code",
   "execution_count": 222,
   "metadata": {
    "button": false,
    "new_sheet": false,
    "run_control": {
     "read_only": false
    }
   },
   "outputs": [
    {
     "data": {
      "text/html": [
       "<div>\n",
       "<style scoped>\n",
       "    .dataframe tbody tr th:only-of-type {\n",
       "        vertical-align: middle;\n",
       "    }\n",
       "\n",
       "    .dataframe tbody tr th {\n",
       "        vertical-align: top;\n",
       "    }\n",
       "\n",
       "    .dataframe thead th {\n",
       "        text-align: right;\n",
       "    }\n",
       "</style>\n",
       "<table border=\"1\" class=\"dataframe\">\n",
       "  <thead>\n",
       "    <tr style=\"text-align: right;\">\n",
       "      <th></th>\n",
       "      <th>Principal</th>\n",
       "      <th>terms</th>\n",
       "      <th>age</th>\n",
       "      <th>Gender</th>\n",
       "      <th>weekend</th>\n",
       "      <th>Bechalor</th>\n",
       "      <th>High School or Below</th>\n",
       "      <th>college</th>\n",
       "    </tr>\n",
       "  </thead>\n",
       "  <tbody>\n",
       "    <tr>\n",
       "      <th>0</th>\n",
       "      <td>1000</td>\n",
       "      <td>30</td>\n",
       "      <td>45</td>\n",
       "      <td>0</td>\n",
       "      <td>0</td>\n",
       "      <td>0</td>\n",
       "      <td>1</td>\n",
       "      <td>0</td>\n",
       "    </tr>\n",
       "    <tr>\n",
       "      <th>1</th>\n",
       "      <td>1000</td>\n",
       "      <td>30</td>\n",
       "      <td>33</td>\n",
       "      <td>1</td>\n",
       "      <td>0</td>\n",
       "      <td>1</td>\n",
       "      <td>0</td>\n",
       "      <td>0</td>\n",
       "    </tr>\n",
       "    <tr>\n",
       "      <th>2</th>\n",
       "      <td>1000</td>\n",
       "      <td>15</td>\n",
       "      <td>27</td>\n",
       "      <td>0</td>\n",
       "      <td>0</td>\n",
       "      <td>0</td>\n",
       "      <td>0</td>\n",
       "      <td>1</td>\n",
       "    </tr>\n",
       "    <tr>\n",
       "      <th>3</th>\n",
       "      <td>1000</td>\n",
       "      <td>30</td>\n",
       "      <td>28</td>\n",
       "      <td>1</td>\n",
       "      <td>1</td>\n",
       "      <td>0</td>\n",
       "      <td>0</td>\n",
       "      <td>1</td>\n",
       "    </tr>\n",
       "    <tr>\n",
       "      <th>4</th>\n",
       "      <td>1000</td>\n",
       "      <td>30</td>\n",
       "      <td>29</td>\n",
       "      <td>0</td>\n",
       "      <td>1</td>\n",
       "      <td>0</td>\n",
       "      <td>0</td>\n",
       "      <td>1</td>\n",
       "    </tr>\n",
       "  </tbody>\n",
       "</table>\n",
       "</div>"
      ],
      "text/plain": [
       "   Principal  terms  age  Gender  weekend  Bechalor  High School or Below  \\\n",
       "0       1000     30   45       0        0         0                     1   \n",
       "1       1000     30   33       1        0         1                     0   \n",
       "2       1000     15   27       0        0         0                     0   \n",
       "3       1000     30   28       1        1         0                     0   \n",
       "4       1000     30   29       0        1         0                     0   \n",
       "\n",
       "   college  \n",
       "0        0  \n",
       "1        0  \n",
       "2        1  \n",
       "3        1  \n",
       "4        1  "
      ]
     },
     "execution_count": 222,
     "metadata": {},
     "output_type": "execute_result"
    }
   ],
   "source": [
    "Feature = df[['Principal','terms','age','Gender','weekend']]\n",
    "Feature = pd.concat([Feature,pd.get_dummies(df['education'])], axis=1)\n",
    "Feature.drop(['Master or Above'], axis = 1,inplace=True)\n",
    "Feature.head()\n"
   ]
  },
  {
   "cell_type": "markdown",
   "metadata": {
    "button": false,
    "new_sheet": false,
    "run_control": {
     "read_only": false
    }
   },
   "source": [
    "### Feature selection"
   ]
  },
  {
   "cell_type": "markdown",
   "metadata": {
    "button": false,
    "new_sheet": false,
    "run_control": {
     "read_only": false
    }
   },
   "source": [
    "Lets defind feature sets, X:"
   ]
  },
  {
   "cell_type": "code",
   "execution_count": 223,
   "metadata": {
    "button": false,
    "new_sheet": false,
    "run_control": {
     "read_only": false
    }
   },
   "outputs": [
    {
     "data": {
      "text/html": [
       "<div>\n",
       "<style scoped>\n",
       "    .dataframe tbody tr th:only-of-type {\n",
       "        vertical-align: middle;\n",
       "    }\n",
       "\n",
       "    .dataframe tbody tr th {\n",
       "        vertical-align: top;\n",
       "    }\n",
       "\n",
       "    .dataframe thead th {\n",
       "        text-align: right;\n",
       "    }\n",
       "</style>\n",
       "<table border=\"1\" class=\"dataframe\">\n",
       "  <thead>\n",
       "    <tr style=\"text-align: right;\">\n",
       "      <th></th>\n",
       "      <th>Principal</th>\n",
       "      <th>terms</th>\n",
       "      <th>age</th>\n",
       "      <th>Gender</th>\n",
       "      <th>weekend</th>\n",
       "      <th>Bechalor</th>\n",
       "      <th>High School or Below</th>\n",
       "      <th>college</th>\n",
       "    </tr>\n",
       "  </thead>\n",
       "  <tbody>\n",
       "    <tr>\n",
       "      <th>0</th>\n",
       "      <td>1000</td>\n",
       "      <td>30</td>\n",
       "      <td>45</td>\n",
       "      <td>0</td>\n",
       "      <td>0</td>\n",
       "      <td>0</td>\n",
       "      <td>1</td>\n",
       "      <td>0</td>\n",
       "    </tr>\n",
       "    <tr>\n",
       "      <th>1</th>\n",
       "      <td>1000</td>\n",
       "      <td>30</td>\n",
       "      <td>33</td>\n",
       "      <td>1</td>\n",
       "      <td>0</td>\n",
       "      <td>1</td>\n",
       "      <td>0</td>\n",
       "      <td>0</td>\n",
       "    </tr>\n",
       "    <tr>\n",
       "      <th>2</th>\n",
       "      <td>1000</td>\n",
       "      <td>15</td>\n",
       "      <td>27</td>\n",
       "      <td>0</td>\n",
       "      <td>0</td>\n",
       "      <td>0</td>\n",
       "      <td>0</td>\n",
       "      <td>1</td>\n",
       "    </tr>\n",
       "    <tr>\n",
       "      <th>3</th>\n",
       "      <td>1000</td>\n",
       "      <td>30</td>\n",
       "      <td>28</td>\n",
       "      <td>1</td>\n",
       "      <td>1</td>\n",
       "      <td>0</td>\n",
       "      <td>0</td>\n",
       "      <td>1</td>\n",
       "    </tr>\n",
       "    <tr>\n",
       "      <th>4</th>\n",
       "      <td>1000</td>\n",
       "      <td>30</td>\n",
       "      <td>29</td>\n",
       "      <td>0</td>\n",
       "      <td>1</td>\n",
       "      <td>0</td>\n",
       "      <td>0</td>\n",
       "      <td>1</td>\n",
       "    </tr>\n",
       "  </tbody>\n",
       "</table>\n",
       "</div>"
      ],
      "text/plain": [
       "   Principal  terms  age  Gender  weekend  Bechalor  High School or Below  \\\n",
       "0       1000     30   45       0        0         0                     1   \n",
       "1       1000     30   33       1        0         1                     0   \n",
       "2       1000     15   27       0        0         0                     0   \n",
       "3       1000     30   28       1        1         0                     0   \n",
       "4       1000     30   29       0        1         0                     0   \n",
       "\n",
       "   college  \n",
       "0        0  \n",
       "1        0  \n",
       "2        1  \n",
       "3        1  \n",
       "4        1  "
      ]
     },
     "execution_count": 223,
     "metadata": {},
     "output_type": "execute_result"
    }
   ],
   "source": [
    "X = Feature\n",
    "X[0:5]"
   ]
  },
  {
   "cell_type": "markdown",
   "metadata": {
    "button": false,
    "new_sheet": false,
    "run_control": {
     "read_only": false
    }
   },
   "source": [
    "What are our lables?"
   ]
  },
  {
   "cell_type": "code",
   "execution_count": 224,
   "metadata": {
    "button": false,
    "new_sheet": false,
    "run_control": {
     "read_only": false
    }
   },
   "outputs": [
    {
     "data": {
      "text/plain": [
       "array(['PAIDOFF', 'PAIDOFF', 'PAIDOFF', 'PAIDOFF', 'PAIDOFF'],\n",
       "      dtype=object)"
      ]
     },
     "execution_count": 224,
     "metadata": {},
     "output_type": "execute_result"
    }
   ],
   "source": [
    "y = df['loan_status'].values\n",
    "y[0:5]"
   ]
  },
  {
   "cell_type": "markdown",
   "metadata": {
    "button": false,
    "new_sheet": false,
    "run_control": {
     "read_only": false
    }
   },
   "source": [
    "## Normalize Data "
   ]
  },
  {
   "cell_type": "markdown",
   "metadata": {
    "button": false,
    "new_sheet": false,
    "run_control": {
     "read_only": false
    }
   },
   "source": [
    "Data Standardization give data zero mean and unit variance (technically should be done after train test split )"
   ]
  },
  {
   "cell_type": "code",
   "execution_count": 225,
   "metadata": {
    "button": false,
    "new_sheet": false,
    "run_control": {
     "read_only": false
    }
   },
   "outputs": [
    {
     "name": "stderr",
     "output_type": "stream",
     "text": [
      "/opt/conda/envs/Python36/lib/python3.6/site-packages/sklearn/preprocessing/data.py:645: DataConversionWarning: Data with input dtype uint8, int64 were all converted to float64 by StandardScaler.\n",
      "  return self.partial_fit(X, y)\n",
      "/opt/conda/envs/Python36/lib/python3.6/site-packages/ipykernel/__main__.py:1: DataConversionWarning: Data with input dtype uint8, int64 were all converted to float64 by StandardScaler.\n",
      "  if __name__ == '__main__':\n"
     ]
    },
    {
     "data": {
      "text/plain": [
       "array([[ 0.51578458,  0.92071769,  2.33152555, -0.42056004, -1.20577805,\n",
       "        -0.38170062,  1.13639374, -0.86968108],\n",
       "       [ 0.51578458,  0.92071769,  0.34170148,  2.37778177, -1.20577805,\n",
       "         2.61985426, -0.87997669, -0.86968108],\n",
       "       [ 0.51578458, -0.95911111, -0.65321055, -0.42056004, -1.20577805,\n",
       "        -0.38170062, -0.87997669,  1.14984679],\n",
       "       [ 0.51578458,  0.92071769, -0.48739188,  2.37778177,  0.82934003,\n",
       "        -0.38170062, -0.87997669,  1.14984679],\n",
       "       [ 0.51578458,  0.92071769, -0.3215732 , -0.42056004,  0.82934003,\n",
       "        -0.38170062, -0.87997669,  1.14984679]])"
      ]
     },
     "execution_count": 225,
     "metadata": {},
     "output_type": "execute_result"
    }
   ],
   "source": [
    "X= preprocessing.StandardScaler().fit(X).transform(X)\n",
    "X[0:5]"
   ]
  },
  {
   "cell_type": "markdown",
   "metadata": {
    "button": false,
    "new_sheet": false,
    "run_control": {
     "read_only": false
    }
   },
   "source": [
    "# Classification "
   ]
  },
  {
   "cell_type": "markdown",
   "metadata": {
    "button": false,
    "new_sheet": false,
    "run_control": {
     "read_only": false
    }
   },
   "source": [
    "Now, it is your turn, use the training set to build an accurate model. Then use the test set to report the accuracy of the model\n",
    "You should use the following algorithm:\n",
    "- K Nearest Neighbor(KNN)\n",
    "- Decision Tree\n",
    "- Support Vector Machine\n",
    "- Logistic Regression\n",
    "\n",
    "\n",
    "\n",
    "__ Notice:__ \n",
    "- You can go above and change the pre-processing, feature selection, feature-extraction, and so on, to make a better model.\n",
    "- You should use either scikit-learn, Scipy or Numpy libraries for developing the classification algorithms.\n",
    "- You should include the code of the algorithm in the following cells."
   ]
  },
  {
   "cell_type": "markdown",
   "metadata": {},
   "source": [
    "# K Nearest Neighbor(KNN)\n",
    "Notice: You should find the best k to build the model with the best accuracy.  \n",
    "**warning:** You should not use the __loan_test.csv__ for finding the best k, however, you can split your train_loan.csv into train and test to find the best __k__."
   ]
  },
  {
   "cell_type": "code",
   "execution_count": 226,
   "metadata": {},
   "outputs": [],
   "source": [
    "# Here we will try to examine what is the best number of classifiers, and what our model will predict\n",
    "from sklearn.model_selection import train_test_split"
   ]
  },
  {
   "cell_type": "code",
   "execution_count": 227,
   "metadata": {},
   "outputs": [
    {
     "name": "stdout",
     "output_type": "stream",
     "text": [
      "Train set: (276, 8) (276,)\n",
      "Test set: (70, 8) (70,)\n"
     ]
    }
   ],
   "source": [
    "X_train_m1, X_test_m1, y_train_m1, y_test_m1 = train_test_split( X, y, test_size=0.2, random_state=4)\n",
    "print ('Train set:', X_train_m1.shape,  y_train_m1.shape)\n",
    "print ('Test set:', X_test_m1.shape,  y_test_m1.shape)"
   ]
  },
  {
   "cell_type": "code",
   "execution_count": 228,
   "metadata": {},
   "outputs": [],
   "source": [
    "from sklearn.neighbors import KNeighborsClassifier\n",
    "from sklearn import metrics"
   ]
  },
  {
   "cell_type": "code",
   "execution_count": 229,
   "metadata": {},
   "outputs": [
    {
     "name": "stdout",
     "output_type": "stream",
     "text": [
      "The best accuracy was with 0.7857142857142857 with k= 7\n"
     ]
    }
   ],
   "source": [
    "Ks = 50\n",
    "mean_acc = np.zeros((Ks-1))\n",
    "std_acc = np.zeros((Ks-1))\n",
    "ConfustionMx = [];\n",
    "\n",
    "for n in range(1,Ks):\n",
    "    \n",
    "    #Train Model and Predict  \n",
    "    neigh = KNeighborsClassifier(n_neighbors = n).fit(X_train_m1,y_train_m1)\n",
    "    yhat_m1=neigh.predict(X_test_m1)\n",
    "    mean_acc[n-1] = metrics.accuracy_score(y_test_m1, yhat_m1)\n",
    "\n",
    "    \n",
    "    std_acc[n-1]=np.std(yhat_m1==y_test_m1)/np.sqrt(yhat_m1.shape[0])\n",
    "\n",
    "#as we can see the best number of classifiers is 7\n",
    "best_cl_knn=np.argmax(mean_acc)+1\n",
    "\n",
    "print( \"The best accuracy was with\", mean_acc.max(), \"with k=\", best_cl_knn)"
   ]
  },
  {
   "cell_type": "code",
   "execution_count": 230,
   "metadata": {},
   "outputs": [
    {
     "data": {
      "image/png": "[encoded data removed]",
      "text/plain": [
       "<Figure size 432x288 with 1 Axes>"
      ]
     },
     "metadata": {
      "needs_background": "light"
     },
     "output_type": "display_data"
    }
   ],
   "source": [
    "plt.plot(range(1,Ks),mean_acc,'g')\n",
    "plt.fill_between(range(1,Ks),mean_acc - 1 * std_acc,mean_acc + 1 * std_acc, alpha=0.10)\n",
    "plt.legend(('Accuracy ', '+/- 3xstd'))\n",
    "plt.ylabel('Accuracy ')\n",
    "plt.xlabel('Number of Nabors (K)')\n",
    "plt.tight_layout()\n",
    "plt.show()"
   ]
  },
  {
   "cell_type": "code",
   "execution_count": 231,
   "metadata": {},
   "outputs": [
    {
     "data": {
      "text/plain": [
       "KNeighborsClassifier(algorithm='auto', leaf_size=30, metric='minkowski',\n",
       "           metric_params=None, n_jobs=None, n_neighbors=7, p=2,\n",
       "           weights='uniform')"
      ]
     },
     "execution_count": 231,
     "metadata": {},
     "output_type": "execute_result"
    }
   ],
   "source": [
    "k=best_cl_knn\n",
    "neigh = KNeighborsClassifier(n_neighbors = k).fit(X_train_m1,y_train_m1)\n",
    "neigh"
   ]
  },
  {
   "cell_type": "code",
   "execution_count": 232,
   "metadata": {},
   "outputs": [
    {
     "data": {
      "text/plain": [
       "PAIDOFF       260\n",
       "COLLECTION     86\n",
       "Name: loan_status, dtype: int64"
      ]
     },
     "execution_count": 232,
     "metadata": {},
     "output_type": "execute_result"
    }
   ],
   "source": [
    "yhat_m1 = neigh.predict(X_test_m1)\n",
    "yhat_m1[0:5]\n",
    "yhat2_m1 = pd.DataFrame(neigh.predict(X))\n",
    "df['model_pred']=yhat2_m1\n",
    "df[\"model_pred\"].value_counts()\n",
    "df['loan_status'].value_counts()"
   ]
  },
  {
   "cell_type": "code",
   "execution_count": 233,
   "metadata": {},
   "outputs": [],
   "source": [
    "#here we will evaluate our model by 3 metrics – Jaccard index, F1-score, LogLoass\n",
    "from sklearn.metrics import jaccard_similarity_score\n",
    "from sklearn.metrics import classification_report\n",
    "from sklearn.metrics import f1_score\n",
    "from sklearn.metrics import log_loss\n",
    "\n",
    "model_1_jac=jaccard_similarity_score(y_test_m1, yhat_m1)\n",
    "model_1_f1=f1_score(y_test_m1, yhat_m1, average='weighted')\n",
    "# log loss not applicable for Knn – https://medium.com/@bengikoseoglu/why-log-loss-metric-shouldnt-be-used-to-evaluate-nearest-neighbour-classification-1fe314f460a2"
   ]
  },
  {
   "cell_type": "markdown",
   "metadata": {},
   "source": [
    "# Decision Tree"
   ]
  },
  {
   "cell_type": "code",
   "execution_count": 257,
   "metadata": {},
   "outputs": [],
   "source": [
    "from sklearn.tree import DecisionTreeClassifier"
   ]
  },
  {
   "cell_type": "code",
   "execution_count": 258,
   "metadata": {},
   "outputs": [],
   "source": [
    "X_trainset_m2, X_testset_m2, y_trainset_m2, y_testset_m2 = train_test_split(X, y, test_size=0.3, random_state=3)"
   ]
  },
  {
   "cell_type": "code",
   "execution_count": 259,
   "metadata": {},
   "outputs": [],
   "source": [
    "Kt = 15\n",
    "meanTree_acc = np.zeros((Kt-1))\n",
    "stdTree_acc = np.zeros((Kt-1))\n",
    "for n in range(1,Kt):\n",
    "    #Train Model and Predict  \n",
    "    loanTree = DecisionTreeClassifier(criterion = \"entropy\", max_depth = n).fit(X_trainset_m2,y_trainset_m2)\n",
    "    yhatTree=loanTree.predict(X_testset_m2)\n",
    "    meanTree_acc[n-1] = metrics.accuracy_score(y_testset_m2, yhatTree)   \n",
    "    stdTree_acc[n-1]=np.std(yhatTree==y_testset_m2)/np.sqrt(yhatTree.shape[0])"
   ]
  },
  {
   "cell_type": "code",
   "execution_count": 260,
   "metadata": {},
   "outputs": [
    {
     "data": {
      "image/png": "[encoded data removed]",
      "text/plain": [
       "<Figure size 432x288 with 1 Axes>"
      ]
     },
     "metadata": {
      "needs_background": "light"
     },
     "output_type": "display_data"
    },
    {
     "name": "stdout",
     "output_type": "stream",
     "text": [
      "The best accuracy for Decision Tree was with 0.7403846153846154\n"
     ]
    }
   ],
   "source": [
    "plt.plot(range(1,Kt),meanTree_acc,'g')\n",
    "plt.fill_between(range(1,Kt),meanTree_acc - 1 * stdTree_acc,meanTree_acc + 1 * stdTree_acc, alpha=0.10)\n",
    "plt.legend(('Accuracy ', '+/- 3xstd'))\n",
    "plt.ylabel('Accuracy ')\n",
    "plt.xlabel('Max Depth')\n",
    "plt.tight_layout()\n",
    "plt.show()\n",
    "print( \"The best accuracy for Decision Tree was with\", meanTree_acc.max()) "
   ]
  },
  {
   "cell_type": "code",
   "execution_count": 261,
   "metadata": {},
   "outputs": [
    {
     "data": {
      "text/plain": [
       "0.6730769230769231"
      ]
     },
     "execution_count": 261,
     "metadata": {},
     "output_type": "execute_result"
    }
   ],
   "source": [
    "loanTree = DecisionTreeClassifier(criterion = \"entropy\", max_depth = 3).fit(X_trainset_m2,y_trainset_m2)\n",
    "predTree = loanTree.predict(X_testset_m2)\n",
    "\n",
    "model_2_jac=jaccard_similarity_score(y_testset_m2, predTree)\n",
    "model_2_f1=f1_score(y_testset_m2, predTree, average='weighted')\n",
    "model_2_jac"
   ]
  },
  {
   "cell_type": "code",
   "execution_count": 262,
   "metadata": {},
   "outputs": [
    {
     "name": "stdout",
     "output_type": "stream",
     "text": [
      "['PAIDOFF' 'PAIDOFF' 'PAIDOFF' 'PAIDOFF' 'PAIDOFF']\n",
      "['PAIDOFF' 'PAIDOFF' 'COLLECTION' 'COLLECTION' 'PAIDOFF']\n"
     ]
    }
   ],
   "source": [
    "print (predTree [0:5])\n",
    "print (y_testset_m2 [0:5])"
   ]
  },
  {
   "cell_type": "code",
   "execution_count": 263,
   "metadata": {},
   "outputs": [],
   "source": [
    "from sklearn.externals.six import StringIO\n",
    "import pydotplus\n",
    "import matplotlib.image as mpimg\n",
    "from sklearn import tree\n",
    "%matplotlib inline "
   ]
  },
  {
   "cell_type": "code",
   "execution_count": 264,
   "metadata": {},
   "outputs": [
    {
     "data": {
      "text/plain": [
       "<matplotlib.image.AxesImage at 0x7f85843181d0>"
      ]
     },
     "execution_count": 264,
     "metadata": {},
     "output_type": "execute_result"
    },
    {
     "data": {
      "image/png": "[encoded data removed]",
      "text/plain": [
       "<Figure size 7200x14400 with 1 Axes>"
      ]
     },
     "metadata": {
      "needs_background": "light"
     },
     "output_type": "display_data"
    }
   ],
   "source": [
    "from sklearn.externals.six import StringIO\n",
    "import pydotplus\n",
    "import matplotlib.image as mpimg\n",
    "from sklearn import tree\n",
    "loanTree_optimal = DecisionTreeClassifier(criterion = \"entropy\", max_depth = 3).fit(X_trainset_m2,y_trainset_m2)\n",
    "dot_data = StringIO()\n",
    "filename = \"loantree.png\"\n",
    "featureNames = Feature.columns\n",
    "targetNames = df['loan_status'].unique().tolist()\n",
    "out=tree.export_graphviz(loanTree_optimal,feature_names=featureNames, out_file=dot_data, class_names= np.unique(y_trainset_m2), filled=True,  special_characters=True,rotate=False)  \n",
    "graph = pydotplus.graph_from_dot_data(dot_data.getvalue())  \n",
    "graph.write_png(filename)\n",
    "img = mpimg.imread(filename)\n",
    "plt.figure(figsize=(100, 200))\n",
    "plt.imshow(img,interpolation='nearest')"
   ]
  },
  {
   "cell_type": "markdown",
   "metadata": {},
   "source": [
    "# Support Vector Machine"
   ]
  },
  {
   "cell_type": "code",
   "execution_count": 265,
   "metadata": {},
   "outputs": [
    {
     "name": "stdout",
     "output_type": "stream",
     "text": [
      "Train set: (276, 8) (276,)\n",
      "Test set: (70, 8) (70,)\n"
     ]
    },
    {
     "name": "stderr",
     "output_type": "stream",
     "text": [
      "/opt/conda/envs/Python36/lib/python3.6/site-packages/sklearn/svm/base.py:196: FutureWarning: The default value of gamma will change from 'auto' to 'scale' in version 0.22 to account better for unscaled features. Set gamma explicitly to 'auto' or 'scale' to avoid this warning.\n",
      "  \"avoid this warning.\", FutureWarning)\n"
     ]
    }
   ],
   "source": [
    "import pandas as pd\n",
    "import pylab as pl\n",
    "import numpy as np\n",
    "import scipy.optimize as opt\n",
    "from sklearn import preprocessing\n",
    "from sklearn.model_selection import train_test_split\n",
    "%matplotlib inline \n",
    "import matplotlib.pyplot as plt\n",
    "from sklearn import svm\n",
    "\n",
    "X_train_m3, X_test_m3, y_train_m3, y_test_m3 = train_test_split( X, y, test_size=0.2, random_state=4)\n",
    "print ('Train set:', X_train_m3.shape,  y_train_m3.shape)\n",
    "print ('Test set:', X_test_m3.shape,  y_test_m3.shape)\n",
    "\n",
    "clf = svm.SVC(kernel='rbf')\n",
    "clf.fit(X_train_m3, y_train_m3) \n",
    "\n",
    "yhat_m3 = clf.predict(X_test_m3)\n"
   ]
  },
  {
   "cell_type": "code",
   "execution_count": 266,
   "metadata": {},
   "outputs": [],
   "source": [
    "model_3_jac=jaccard_similarity_score(y_test_m3, yhat_m3)\n",
    "model_3_f1=f1_score(y_test_m3, yhat_m3, average='weighted') \n"
   ]
  },
  {
   "cell_type": "markdown",
   "metadata": {},
   "source": [
    "# Logistic Regression"
   ]
  },
  {
   "cell_type": "code",
   "execution_count": 267,
   "metadata": {},
   "outputs": [
    {
     "name": "stdout",
     "output_type": "stream",
     "text": [
      "Train set: (276, 8) (276,)\n",
      "Test set: (70, 8) (70,)\n"
     ]
    },
    {
     "data": {
      "text/plain": [
       "LogisticRegression(C=0.01, class_weight=None, dual=False, fit_intercept=True,\n",
       "          intercept_scaling=1, max_iter=100, multi_class='warn',\n",
       "          n_jobs=None, penalty='l2', random_state=None, solver='liblinear',\n",
       "          tol=0.0001, verbose=0, warm_start=False)"
      ]
     },
     "execution_count": 267,
     "metadata": {},
     "output_type": "execute_result"
    }
   ],
   "source": [
    "X_train_m4, X_test_m4, y_train_m4, y_test_m4 = train_test_split( X, y, test_size=0.2, random_state=4)\n",
    "print ('Train set:', X_train_m4.shape,  y_train_m4.shape)\n",
    "print ('Test set:', X_test_m4.shape,  y_test_m4.shape)\n",
    "\n",
    "from sklearn.linear_model import LogisticRegression\n",
    "\n",
    "LR = LogisticRegression(C=0.01, solver='liblinear').fit(X_train_m4,y_train_m4)\n",
    "LR"
   ]
  },
  {
   "cell_type": "code",
   "execution_count": 268,
   "metadata": {},
   "outputs": [],
   "source": [
    "yhat_m4 = LR.predict(X_test_m4)"
   ]
  },
  {
   "cell_type": "code",
   "execution_count": 269,
   "metadata": {},
   "outputs": [],
   "source": [
    "yhat_prob_m4 = LR.predict_proba(X_test_m4)"
   ]
  },
  {
   "cell_type": "code",
   "execution_count": 270,
   "metadata": {},
   "outputs": [],
   "source": [
    "from sklearn.metrics import log_loss\n",
    "\n",
    "model_4_jac=jaccard_similarity_score(y_test_m4, yhat_m4)\n",
    "model_4_f1=f1_score(y_test_m4, yhat_m4, average='weighted') \n",
    "model_4_logloss=log_loss(y_test_m4, yhat_prob_m4)"
   ]
  },
  {
   "cell_type": "markdown",
   "metadata": {},
   "source": [
    "# Final report (part 1)"
   ]
  },
  {
   "cell_type": "code",
   "execution_count": 271,
   "metadata": {},
   "outputs": [
    {
     "data": {
      "text/html": [
       "<div>\n",
       "<style scoped>\n",
       "    .dataframe tbody tr th:only-of-type {\n",
       "        vertical-align: middle;\n",
       "    }\n",
       "\n",
       "    .dataframe tbody tr th {\n",
       "        vertical-align: top;\n",
       "    }\n",
       "\n",
       "    .dataframe thead th {\n",
       "        text-align: right;\n",
       "    }\n",
       "</style>\n",
       "<table border=\"1\" class=\"dataframe\">\n",
       "  <thead>\n",
       "    <tr style=\"text-align: right;\">\n",
       "      <th></th>\n",
       "      <th>Jaccard</th>\n",
       "      <th>F1-score</th>\n",
       "      <th>LogLoss</th>\n",
       "    </tr>\n",
       "  </thead>\n",
       "  <tbody>\n",
       "    <tr>\n",
       "      <th>KNN</th>\n",
       "      <td>0.785714</td>\n",
       "      <td>0.776654</td>\n",
       "      <td>NA</td>\n",
       "    </tr>\n",
       "    <tr>\n",
       "      <th>Decision Tree</th>\n",
       "      <td>0.673077</td>\n",
       "      <td>0.668886</td>\n",
       "      <td>NA</td>\n",
       "    </tr>\n",
       "    <tr>\n",
       "      <th>SVM</th>\n",
       "      <td>0.742857</td>\n",
       "      <td>0.727588</td>\n",
       "      <td>NA</td>\n",
       "    </tr>\n",
       "    <tr>\n",
       "      <th>LogisticRegression</th>\n",
       "      <td>0.685714</td>\n",
       "      <td>0.667052</td>\n",
       "      <td>0.577229</td>\n",
       "    </tr>\n",
       "  </tbody>\n",
       "</table>\n",
       "</div>"
      ],
      "text/plain": [
       "                     Jaccard  F1-score   LogLoss\n",
       "KNN                 0.785714  0.776654        NA\n",
       "Decision Tree       0.673077  0.668886        NA\n",
       "SVM                 0.742857  0.727588        NA\n",
       "LogisticRegression  0.685714  0.667052  0.577229"
      ]
     },
     "execution_count": 271,
     "metadata": {},
     "output_type": "execute_result"
    }
   ],
   "source": [
    "Jaccard_p1 = [model_1_jac, model_2_jac, model_3_jac, model_4_jac]\n",
    "f1_p1 = [model_1_f1, model_2_f1, model_3_f1, model_4_f1]\n",
    "\n",
    "knn_logloss, predTree_logloss, svm_logloss = \"NA\",\"NA\",\"NA\"\n",
    "logloss_p1 = [knn_logloss, predTree_logloss, svm_logloss, model_4_logloss]\n",
    "\n",
    "# This is the report for all analysis I have done above with the test set which was generated from train_test_split in each section\n",
    "Report1 = pd.DataFrame( index= [\"KNN\", \"Decision Tree\", \"SVM\", \"LogisticRegression\"])\n",
    "Report1[\"Jaccard\"] = Jaccard_p1 \n",
    "Report1[\"F1-score\"] = f1_p1\n",
    "Report1[\"LogLoss\"] = logloss_p1\n",
    "Report1"
   ]
  },
  {
   "cell_type": "code",
   "execution_count": 278,
   "metadata": {},
   "outputs": [
    {
     "name": "stdout",
     "output_type": "stream",
     "text": [
      "Here Knn method was the best (Jaccard and F1-Score) with 0,7812 average accuracy\n"
     ]
    }
   ],
   "source": [
    "print(\"Here Knn method was the best (Jaccard and F1-Score) with 0,7812 average accuracy\")"
   ]
  },
  {
   "cell_type": "markdown",
   "metadata": {},
   "source": [
    "# Model Evaluation using Test set (part2)"
   ]
  },
  {
   "cell_type": "markdown",
   "metadata": {},
   "source": [
    "First, download and load the test set:"
   ]
  },
  {
   "cell_type": "code",
   "execution_count": 272,
   "metadata": {},
   "outputs": [
    {
     "name": "stdout",
     "output_type": "stream",
     "text": [
      "--2019-10-27 14:37:11--  https://s3-api.us-geo.objectstorage.softlayer.net/cf-courses-data/CognitiveClass/ML0101ENv3/labs/loan_test.csv\n",
      "Resolving s3-api.us-geo.objectstorage.softlayer.net (s3-api.us-geo.objectstorage.softlayer.net)... 67.228.254.193\n",
      "Connecting to s3-api.us-geo.objectstorage.softlayer.net (s3-api.us-geo.objectstorage.softlayer.net)|67.228.254.193|:443... connected.\n",
      "HTTP request sent, awaiting response... 200 OK\n",
      "Length: 3642 (3.6K) [text/csv]\n",
      "Saving to: ‘loan_test.csv’\n",
      "\n",
      "100%[======================================>] 3,642       --.-K/s   in 0s      \n",
      "\n",
      "2019-10-27 14:37:12 (413 MB/s) - ‘loan_test.csv’ saved [3642/3642]\n",
      "\n"
     ]
    }
   ],
   "source": [
    "!wget -O loan_test.csv https://s3-api.us-geo.objectstorage.softlayer.net/cf-courses-data/CognitiveClass/ML0101ENv3/labs/loan_test.csv"
   ]
  },
  {
   "cell_type": "markdown",
   "metadata": {
    "button": false,
    "new_sheet": false,
    "run_control": {
     "read_only": false
    }
   },
   "source": [
    "### Load Test set for evaluation "
   ]
  },
  {
   "cell_type": "code",
   "execution_count": 273,
   "metadata": {
    "button": false,
    "new_sheet": false,
    "run_control": {
     "read_only": false
    }
   },
   "outputs": [
    {
     "data": {
      "text/html": [
       "<div>\n",
       "<style scoped>\n",
       "    .dataframe tbody tr th:only-of-type {\n",
       "        vertical-align: middle;\n",
       "    }\n",
       "\n",
       "    .dataframe tbody tr th {\n",
       "        vertical-align: top;\n",
       "    }\n",
       "\n",
       "    .dataframe thead th {\n",
       "        text-align: right;\n",
       "    }\n",
       "</style>\n",
       "<table border=\"1\" class=\"dataframe\">\n",
       "  <thead>\n",
       "    <tr style=\"text-align: right;\">\n",
       "      <th></th>\n",
       "      <th>Unnamed: 0</th>\n",
       "      <th>Unnamed: 0.1</th>\n",
       "      <th>loan_status</th>\n",
       "      <th>Principal</th>\n",
       "      <th>terms</th>\n",
       "      <th>effective_date</th>\n",
       "      <th>due_date</th>\n",
       "      <th>age</th>\n",
       "      <th>education</th>\n",
       "      <th>Gender</th>\n",
       "    </tr>\n",
       "  </thead>\n",
       "  <tbody>\n",
       "    <tr>\n",
       "      <th>0</th>\n",
       "      <td>1</td>\n",
       "      <td>1</td>\n",
       "      <td>PAIDOFF</td>\n",
       "      <td>1000</td>\n",
       "      <td>30</td>\n",
       "      <td>9/8/2016</td>\n",
       "      <td>10/7/2016</td>\n",
       "      <td>50</td>\n",
       "      <td>Bechalor</td>\n",
       "      <td>female</td>\n",
       "    </tr>\n",
       "    <tr>\n",
       "      <th>1</th>\n",
       "      <td>5</td>\n",
       "      <td>5</td>\n",
       "      <td>PAIDOFF</td>\n",
       "      <td>300</td>\n",
       "      <td>7</td>\n",
       "      <td>9/9/2016</td>\n",
       "      <td>9/15/2016</td>\n",
       "      <td>35</td>\n",
       "      <td>Master or Above</td>\n",
       "      <td>male</td>\n",
       "    </tr>\n",
       "    <tr>\n",
       "      <th>2</th>\n",
       "      <td>21</td>\n",
       "      <td>21</td>\n",
       "      <td>PAIDOFF</td>\n",
       "      <td>1000</td>\n",
       "      <td>30</td>\n",
       "      <td>9/10/2016</td>\n",
       "      <td>10/9/2016</td>\n",
       "      <td>43</td>\n",
       "      <td>High School or Below</td>\n",
       "      <td>female</td>\n",
       "    </tr>\n",
       "    <tr>\n",
       "      <th>3</th>\n",
       "      <td>24</td>\n",
       "      <td>24</td>\n",
       "      <td>PAIDOFF</td>\n",
       "      <td>1000</td>\n",
       "      <td>30</td>\n",
       "      <td>9/10/2016</td>\n",
       "      <td>10/9/2016</td>\n",
       "      <td>26</td>\n",
       "      <td>college</td>\n",
       "      <td>male</td>\n",
       "    </tr>\n",
       "    <tr>\n",
       "      <th>4</th>\n",
       "      <td>35</td>\n",
       "      <td>35</td>\n",
       "      <td>PAIDOFF</td>\n",
       "      <td>800</td>\n",
       "      <td>15</td>\n",
       "      <td>9/11/2016</td>\n",
       "      <td>9/25/2016</td>\n",
       "      <td>29</td>\n",
       "      <td>Bechalor</td>\n",
       "      <td>male</td>\n",
       "    </tr>\n",
       "  </tbody>\n",
       "</table>\n",
       "</div>"
      ],
      "text/plain": [
       "   Unnamed: 0  Unnamed: 0.1 loan_status  Principal  terms effective_date  \\\n",
       "0           1             1     PAIDOFF       1000     30       9/8/2016   \n",
       "1           5             5     PAIDOFF        300      7       9/9/2016   \n",
       "2          21            21     PAIDOFF       1000     30      9/10/2016   \n",
       "3          24            24     PAIDOFF       1000     30      9/10/2016   \n",
       "4          35            35     PAIDOFF        800     15      9/11/2016   \n",
       "\n",
       "    due_date  age             education  Gender  \n",
       "0  10/7/2016   50              Bechalor  female  \n",
       "1  9/15/2016   35       Master or Above    male  \n",
       "2  10/9/2016   43  High School or Below  female  \n",
       "3  10/9/2016   26               college    male  \n",
       "4  9/25/2016   29              Bechalor    male  "
      ]
     },
     "execution_count": 273,
     "metadata": {},
     "output_type": "execute_result"
    }
   ],
   "source": [
    "test_df = pd.read_csv('loan_test.csv')\n",
    "test_df.head()"
   ]
  },
  {
   "cell_type": "code",
   "execution_count": 274,
   "metadata": {},
   "outputs": [
    {
     "name": "stderr",
     "output_type": "stream",
     "text": [
      "/opt/conda/envs/Python36/lib/python3.6/site-packages/sklearn/preprocessing/data.py:645: DataConversionWarning: Data with input dtype uint8, int64 were all converted to float64 by StandardScaler.\n",
      "  return self.partial_fit(X, y)\n",
      "/opt/conda/envs/Python36/lib/python3.6/site-packages/ipykernel/__main__.py:11: DataConversionWarning: Data with input dtype uint8, int64 were all converted to float64 by StandardScaler.\n"
     ]
    }
   ],
   "source": [
    "test_df['due_date'] = pd.to_datetime(test_df['due_date'])\n",
    "test_df['effective_date'] = pd.to_datetime(test_df['effective_date'])\n",
    "test_df['dayofweek'] = test_df['effective_date'].dt.dayofweek\n",
    "test_df['weekend'] = test_df['dayofweek'].apply(lambda x: 1 if (x>3)  else 0)\n",
    "test_df['Gender'].replace(to_replace=['male','female'], value=[0,1],inplace=True)\n",
    "Feature = test_df[['Principal','terms','age','Gender','weekend']]\n",
    "Feature = pd.concat([Feature,pd.get_dummies(test_df['education'])], axis=1)\n",
    "Feature.drop(['Master or Above'], axis = 1,inplace=True)\n",
    "X_fin_test = Feature\n",
    "y_fin_test = test_df['loan_status'].values\n",
    "X_fin_test = preprocessing.StandardScaler().fit(X_fin_test).transform(X_fin_test)\n",
    "\n",
    "\n",
    "# We have already trained our models in part, so here I'll just use those models for modelling loan_status for a new test set\n",
    "\n",
    "#knn\n",
    "yhat_knn = neigh.predict(X_fin_test)\n",
    "#decision tree\n",
    "yhat_predTree = drugTree.predict(X_fin_test)\n",
    "#svm\n",
    "yhat_svm = clf.predict(X_fin_test)\n",
    "#log regression\n",
    "yhat_logreg = LR.predict(X_fin_test)"
   ]
  },
  {
   "cell_type": "code",
   "execution_count": 276,
   "metadata": {},
   "outputs": [
    {
     "data": {
      "text/html": [
       "<div>\n",
       "<style scoped>\n",
       "    .dataframe tbody tr th:only-of-type {\n",
       "        vertical-align: middle;\n",
       "    }\n",
       "\n",
       "    .dataframe tbody tr th {\n",
       "        vertical-align: top;\n",
       "    }\n",
       "\n",
       "    .dataframe thead th {\n",
       "        text-align: right;\n",
       "    }\n",
       "</style>\n",
       "<table border=\"1\" class=\"dataframe\">\n",
       "  <thead>\n",
       "    <tr style=\"text-align: right;\">\n",
       "      <th></th>\n",
       "      <th>Jaccard</th>\n",
       "      <th>F1-score</th>\n",
       "      <th>LogLoss</th>\n",
       "    </tr>\n",
       "  </thead>\n",
       "  <tbody>\n",
       "    <tr>\n",
       "      <th>KNN</th>\n",
       "      <td>0.666667</td>\n",
       "      <td>0.632840</td>\n",
       "      <td>NA</td>\n",
       "    </tr>\n",
       "    <tr>\n",
       "      <th>Decision Tree</th>\n",
       "      <td>0.777778</td>\n",
       "      <td>0.782336</td>\n",
       "      <td>NA</td>\n",
       "    </tr>\n",
       "    <tr>\n",
       "      <th>SVM</th>\n",
       "      <td>0.796296</td>\n",
       "      <td>0.758350</td>\n",
       "      <td>NA</td>\n",
       "    </tr>\n",
       "    <tr>\n",
       "      <th>LogisticRegression</th>\n",
       "      <td>0.740741</td>\n",
       "      <td>0.660427</td>\n",
       "      <td>0.567215</td>\n",
       "    </tr>\n",
       "  </tbody>\n",
       "</table>\n",
       "</div>"
      ],
      "text/plain": [
       "                     Jaccard  F1-score   LogLoss\n",
       "KNN                 0.666667  0.632840        NA\n",
       "Decision Tree       0.777778  0.782336        NA\n",
       "SVM                 0.796296  0.758350        NA\n",
       "LogisticRegression  0.740741  0.660427  0.567215"
      ]
     },
     "execution_count": 276,
     "metadata": {},
     "output_type": "execute_result"
    }
   ],
   "source": [
    "knn_jac = jaccard_similarity_score(y_fin_test, yhat_knn)\n",
    "predTree_jac = jaccard_similarity_score(y_fin_test, yhat_predTree)\n",
    "svm_jac = jaccard_similarity_score(y_fin_test, yhat_svm)\n",
    "logreg_jac = jaccard_similarity_score(y_fin_test, yhat_logreg)\n",
    "Jaccard = [knn_jac, predTree_jac, svm_jac, logreg_jac]\n",
    "\n",
    "knn_f1 = f1_score(y_fin_test, yhat_knn,average='weighted')\n",
    "predTree_f1 = f1_score(y_fin_test, yhat_predTree, average='weighted')\n",
    "svm_f1 = f1_score(y_fin_test, yhat_svm, average='weighted')\n",
    "logreg_f1 = f1_score(y_fin_test, yhat_logreg, average='weighted')\n",
    "f1 = [knn_f1, predTree_f1, svm_f1, logreg_f1]\n",
    "\n",
    "knn_logloss, predTree_logloss, svm_logloss = \"NA\",\"NA\",\"NA\"\n",
    "logreg_logloss_prob = LR.predict_proba(X_fin_test)\n",
    "logreg_logloss=log_loss(y_fin_test, logreg_logloss_prob)\n",
    "logloss = [knn_logloss, predTree_logloss, svm_logloss, logreg_logloss]\n",
    "\n",
    "Report2 = pd.DataFrame( index= [\"KNN\", \"Decision Tree\", \"SVM\", \"LogisticRegression\"])\n",
    "Report2[\"Jaccard\"] = Jaccard \n",
    "Report2[\"F1-score\"] = f1\n",
    "Report2[\"LogLoss\"] = logloss\n",
    "Report2"
   ]
  },
  {
   "cell_type": "code",
   "execution_count": 279,
   "metadata": {},
   "outputs": [
    {
     "name": "stdout",
     "output_type": "stream",
     "text": [
      "The best one appers to be deciion tree with average accuracy (Jaccard and F1-Score) 0.7801 !\n"
     ]
    }
   ],
   "source": [
    "print(\"The best one appers to be decision tree with average accuracy (Jaccard and F1-Score) 0.7801 !\")"
   ]
  },
  {
   "cell_type": "code",
   "execution_count": 1,
   "metadata": {},
   "outputs": [
    {
     "name": "stdout",
     "output_type": "stream",
     "text": [
      "Initialized empty Git repository in /Users/admin/Desktop/Machine learning/Coursera/.git/\r\n"
     ]
    }
   ],
   "source": [
    "! git init ."
   ]
  },
  {
   "cell_type": "code",
   "execution_count": 3,
   "metadata": {},
   "outputs": [],
   "source": [
    "! git add ."
   ]
  },
  {
   "cell_type": "code",
   "execution_count": 5,
   "metadata": {},
   "outputs": [
    {
     "name": "stdout",
     "output_type": "stream",
     "text": [
      "[master (root-commit) 119c578] первичная загрузка без подробных комментариев и с некоторыми недочетами\n",
      " Committer: Emil Yusifov <admin@Emils-MacBook-Air.local>\n",
      "Your name and email address were configured automatically based\n",
      "on your username and hostname. Please check that they are accurate.\n",
      "You can suppress this message by setting them explicitly. Run the\n",
      "following command and follow the instructions in your editor to edit\n",
      "your configuration file:\n",
      "\n",
      "    git config --global --edit\n",
      "\n",
      "After doing this, you may fix the identity used for this commit with:\n",
      "\n",
      "    git commit --amend --reset-author\n",
      "\n",
      " 37 files changed, 39084 insertions(+)\n",
      " create mode 100644 .ipynb_checkpoints/Emil_Yusifov_Final_Project-checkpoint.ipynb\n",
      " create mode 100644 .ipynb_checkpoints/Final_project-Loan-answer-py-v1-checkpoint.ipynb\n",
      " create mode 100644 Coursera | Online Courses From Top Universities. Join for Free.pdf\n",
      " create mode 100644 Emil_Yusifov_Final_Project.ipynb\n",
      " create mode 100644 Final_project-Loan-answer-py-v1.ipynb\n",
      " create mode 100644 Копия Coursera | Online Courses From Top Universities. Join for Free.jpg\n",
      " create mode 100644 неотсортированное/general_fx.csv\n",
      " create mode 100644 неотсортированное/pwt.csv\n",
      " create mode 100644 неотсортированное/ликбез в дата саенс.ipynb\n",
      " create mode 100644 практика к курсу/.ipynb_checkpoints/Polynomial regression-checkpoint.ipynb\n",
      " create mode 100644 практика к курсу/.ipynb_checkpoints/multiple param regression-checkpoint.ipynb\n",
      " create mode 100644 практика к курсу/.ipynb_checkpoints/non-linear regression-checkpoint.ipynb\n",
      " create mode 100644 практика к курсу/.ipynb_checkpoints/project-checkpoint.ipynb\n",
      " create mode 100644 практика к курсу/.ipynb_checkpoints/single param regression-checkpoint.ipynb\n",
      " create mode 100644 практика к курсу/FuelConsumptionCo2.csv\n",
      " create mode 100644 практика к курсу/Polynomial regression.ipynb\n",
      " create mode 100644 практика к курсу/multiple param regression.ipynb\n",
      " create mode 100644 практика к курсу/non-linear regression.ipynb\n",
      " create mode 100644 практика к курсу/single param regression.ipynb\n",
      " create mode 100644 теория к курсу/2 неделя, полином. регрессия.rtf\n",
      " create mode 100644 теория к курсу/Pandas_Cheat_Sheet.pdf\n",
      " create mode 100644 теория к курсу/Screen Shot 2019-09-09 at 16.50.11.png\n",
      " create mode 100644 теория к курсу/Книга1.xlsx\n",
      " create mode 100644 теория к курсу/Снимок экрана 2019-09-22 в 18.47.14.png\n",
      " create mode 100644 теория к курсу/Снимок экрана 2019-09-22 в 18.48.22.png\n",
      " create mode 100644 теория к курсу/Снимок экрана 2019-09-23 в 15.32.42.png\n",
      " create mode 100644 теория к курсу/Снимок экрана 2019-09-23 в 15.35.14.png\n",
      " create mode 100644 теория к курсу/Снимок экрана 2019-09-23 в 15.36.03.png\n",
      " create mode 100644 теория к курсу/Снимок экрана 2019-09-23 в 15.37.02.png\n",
      " create mode 100644 теория к курсу/Снимок экрана 2019-09-23 в 15.38.17.png\n",
      " create mode 100644 теория к курсу/Снимок экрана 2019-09-23 в 15.42.22.png\n",
      " create mode 100644 теория к курсу/Снимок экрана 2019-09-26 в 18.02.23.png\n",
      " create mode 100644 теория к курсу/Снимок экрана 2019-09-27 в 13.35.21.png\n",
      " create mode 100644 теория к курсу/Снимок экрана 2019-09-27 в 13.47.18.png\n",
      " create mode 100644 теория к курсу/Снимок экрана 2019-09-28 в 12.25.57.png\n",
      " create mode 100644 теория к курсу/Снимок экрана 2019-09-28 в 13.43.42.png\n",
      " create mode 100644 теория к курсу/Снимок экрана 2019-09-28 в 16.55.48.png\n"
     ]
    }
   ],
   "source": [
    "! git commit -m 'первичная загрузка без подробных комментариев и с некоторыми недочетами'"
   ]
  },
  {
   "cell_type": "code",
   "execution_count": null,
   "metadata": {},
   "outputs": [],
   "source": [
    "! git push -u https://github.com/emil2397/ml_methods"
   ]
  },
  {
   "cell_type": "code",
   "execution_count": null,
   "metadata": {},
   "outputs": [
    {
     "name": "stdout",
     "output_type": "stream",
     "text": [
      "Username for 'https://github.com': "
     ]
    }
   ],
   "source": [
    "! git push -u https://github.com/emil2397/ml_methods.git"
   ]
  },
  {
   "cell_type": "code",
   "execution_count": null,
   "metadata": {},
   "outputs": [],
   "source": [
    "! git push -u git@github.com:emil2397/ml_methods.git"
   ]
  },
  {
   "cell_type": "code",
   "execution_count": null,
   "metadata": {},
   "outputs": [],
   "source": [
    "! git remote add origin git@github.com:emil2397/ml_methods.git"
   ]
  },
  {
   "cell_type": "code",
   "execution_count": null,
   "metadata": {},
   "outputs": [],
   "source": [
    "git add README.md\n",
    "\n",
    "\n"
   ]
  },
  {
   "cell_type": "code",
   "execution_count": 1,
   "metadata": {},
   "outputs": [
    {
     "name": "stdout",
     "output_type": "stream",
     "text": [
      "Reinitialized existing Git repository in /Users/admin/Desktop/Machine learning/Coursera/.git/\r\n"
     ]
    }
   ],
   "source": [
    "! git init"
   ]
  },
  {
   "cell_type": "code",
   "execution_count": 2,
   "metadata": {},
   "outputs": [
    {
     "name": "stdout",
     "output_type": "stream",
     "text": [
      "On branch master\r\n",
      "Changes not staged for commit:\r\n",
      "\t\u001b[31mmodified:   Emil_Yusifov_Final_Project.ipynb\u001b[m\r\n",
      "\r\n",
      "no changes added to commit\r\n"
     ]
    }
   ],
   "source": [
    "! git commit -m \"first commit\""
   ]
  },
  {
   "cell_type": "code",
   "execution_count": 3,
   "metadata": {},
   "outputs": [
    {
     "name": "stdout",
     "output_type": "stream",
     "text": [
      "fatal: remote origin already exists.\r\n"
     ]
    }
   ],
   "source": [
    "! git remote add origin https://github.com/emil2397/ml_methods.git"
   ]
  },
  {
   "cell_type": "code",
   "execution_count": 6,
   "metadata": {},
   "outputs": [
    {
     "name": "stdout",
     "output_type": "stream",
     "text": [
      "fatal: remote origin already exists.\r\n"
     ]
    }
   ],
   "source": [
    "! git remote add origin git@github.com:emil2397/ml_methods.git"
   ]
  },
  {
   "cell_type": "code",
   "execution_count": null,
   "metadata": {},
   "outputs": [
    {
     "name": "stdout",
     "output_type": "stream",
     "text": [
      "Username for 'https://github.com': "
     ]
    }
   ],
   "source": [
    "! git push -u origin master"
   ]
  },
  {
   "cell_type": "code",
   "execution_count": null,
   "metadata": {},
   "outputs": [],
   "source": [
    "! emil2397"
   ]
  },
  {
   "cell_type": "code",
   "execution_count": null,
   "metadata": {},
   "outputs": [],
   "source": []
  }
 ],
 "metadata": {
  "kernelspec": {
   "display_name": "Python 3",
   "language": "python",
   "name": "python3"
  },
  "language_info": {
   "codemirror_mode": {
    "name": "ipython",
    "version": 3
   },
   "file_extension": ".py",
   "mimetype": "text/x-python",
   "name": "python",
   "nbconvert_exporter": "python",
   "pygments_lexer": "ipython3",
   "version": "3.7.3"
  }
 },
 "nbformat": 4,
 "nbformat_minor": 2
}
